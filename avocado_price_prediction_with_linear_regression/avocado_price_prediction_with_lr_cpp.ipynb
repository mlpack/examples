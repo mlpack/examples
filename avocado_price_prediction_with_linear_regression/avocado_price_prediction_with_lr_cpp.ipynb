{
 "cells": [
  {
   "cell_type": "markdown",
   "id": "78d0ce16-4ec6-4998-ab5e-94326b6e4f6e",
   "metadata": {},
   "source": [
    "### Predicting Avocado's Average Price using Linear Regression\n",
    "\n",
    "### Objective\n",
    "* Our target is to predict the future price of avocado's depending on various features (Type, Region, Total Bags, ...).\n",
    "\n",
    "### Dataset\n",
    "Avocado Prices dataset has the following features:\n",
    "* PLU - Product Lookup Code in Hass avocado board.\n",
    "* Date - The date of the observation.\n",
    "* AveragePrice - Observed average price of single avocado.\n",
    "* Total Volume - Total number of avocado's sold.\n",
    "* 4046 - Total number of avocado's with PLU 4046 sold.\n",
    "* 4225 - Total number of avocado's with PLU 4225 sold.\n",
    "* 4770 - Total number of avocado's with PLU 4770 sold.\n",
    "* Total Bags = Small Bags + Large Bags + XLarge Bags.\n",
    "* Type - Conventional or organic.\n",
    "* Year - Year of observation.\n",
    "* Region - City or region of observation.\n",
    "\n",
    "### Approach\n",
    "* In this example, first we will do EDA on the dataset to find correlation between various features.\n",
    "* Then we'll be using onehot encoding to encode categorical features.\n",
    "* Finally we will use LinearRegression API from mlpack to learn the correlation between various features and the target i.e AveragePrice.\n",
    "* After training the model, we will use it to do some predictions, followed by various evaluation metrics to quantify how well our model behaves."
   ]
  },
  {
   "cell_type": "code",
   "execution_count": null,
   "id": "ac3caf12-b4f2-4dc3-bf7a-0e855d6f245e",
   "metadata": {},
   "outputs": [],
   "source": [
    "!wget -q https://mlpack.org/datasets/avocado.csv.gz"
   ]
  },
  {
   "cell_type": "code",
   "execution_count": null,
   "id": "1bbdb43e-e14e-4c36-aa1e-3312739b9858",
   "metadata": {},
   "outputs": [],
   "source": [
    "!gzip -d avocado.csv.gz"
   ]
  },
  {
   "cell_type": "code",
   "execution_count": 2,
   "id": "3d374b30-e54a-4990-b191-aade8144d0a6",
   "metadata": {},
   "outputs": [],
   "source": [
    "// Import necessary library headers.\n",
    "#include <mlpack/xeus-cling.hpp>\n",
    "#include <mlpack/core.hpp>\n",
    "#include <mlpack/core/data/split_data.hpp>\n",
    "#include <mlpack/core/data/one_hot_encoding.hpp>\n",
    "#include <mlpack/methods/linear_regression/linear_regression.hpp>"
   ]
  },
  {
   "cell_type": "code",
   "execution_count": 3,
   "id": "aaa7fa57-80c6-48aa-9d9d-5816c947b74b",
   "metadata": {},
   "outputs": [],
   "source": [
    "#define WITHOUT_NUMPY 1\n",
    "#include \"matplotlibcpp.h\"\n",
    "#include \"xwidgets/ximage.hpp\"\n",
    "#include \"../utils/plot.hpp\"\n",
    "\n",
    "namespace plt = matplotlibcpp;"
   ]
  },
  {
   "cell_type": "code",
   "execution_count": 4,
   "id": "324c030a-d1ec-41c6-b6ad-92d62c9fbf57",
   "metadata": {},
   "outputs": [],
   "source": [
    "using namespace mlpack;\n",
    "using namespace mlpack::data;"
   ]
  },
  {
   "cell_type": "markdown",
   "id": "c89fe0a6-1f1e-4914-95fe-9ee2d95345d7",
   "metadata": {},
   "source": [
    "Drop the dataset header using sed, sed is a Unix utility that parses and transforms text."
   ]
  },
  {
   "cell_type": "code",
   "execution_count": 5,
   "id": "ce45d9ac-b131-462c-8f2e-e019a0f5f303",
   "metadata": {},
   "outputs": [],
   "source": [
    "!cat avocado.csv | sed 1d > avocado_trim.csv"
   ]
  },
  {
   "cell_type": "markdown",
   "id": "feb7c8c7-db3f-4dad-b6b0-23e9a478886f",
   "metadata": {},
   "source": [
    "Drop columns 1 and 2 (\"Unamed: 0\", \"Date\") as these are not required and their presence cause issues while loading the data."
   ]
  },
  {
   "cell_type": "code",
   "execution_count": 6,
   "id": "6d45544e-9f6d-4fab-93b2-ded5b51aa9dd",
   "metadata": {},
   "outputs": [],
   "source": [
    "!cut -d, -f1-2 --complement avocado_trim.csv > avocado_trim2.csv"
   ]
  },
  {
   "cell_type": "markdown",
   "id": "0c08b417-9364-4f23-8532-1b0a05180f70",
   "metadata": {},
   "source": [
    "Rename the newly created csv file."
   ]
  },
  {
   "cell_type": "code",
   "execution_count": 7,
   "id": "9d79dabe-286d-4278-9d41-d06a4048b7b0",
   "metadata": {},
   "outputs": [],
   "source": [
    "!rm avocado_trim.csv"
   ]
  },
  {
   "cell_type": "code",
   "execution_count": 8,
   "id": "4211bf8b-0b98-4edf-9ae2-6159a7ed5bd3",
   "metadata": {},
   "outputs": [],
   "source": [
    "!mv avocado_trim2.csv avocado_trim.csv"
   ]
  },
  {
   "cell_type": "markdown",
   "id": "5ae0df00-f85e-4ddc-9d5d-7716c84a937c",
   "metadata": {},
   "source": [
    "### Loading the Data\n",
    "Since features 9 (Avocado type) and 11 (region of observation) are strings (categorical), armadillo matrices can contain only numeric information so we have to explicitly define them as categorical in datasetInfo\n",
    "this allows mlpack to map numeric values to each of those values, which can then be unmaped to strings."
   ]
  },
  {
   "cell_type": "code",
   "execution_count": 9,
   "id": "ae1a3152-76bc-43ce-894b-6554a2f0ad8a",
   "metadata": {},
   "outputs": [],
   "source": [
    "// Load the dataset into armadillo matrix.\n",
    "\n",
    "arma::mat matrix;\n",
    "mlpack::data::DatasetInfo info;\n",
    "info.Type(9) = mlpack::data::Datatype::categorical;\n",
    "info.Type(11) = mlpack::data::Datatype::categorical;\n",
    "data::Load(\"avocado_trim.csv\", matrix, info);"
   ]
  },
  {
   "cell_type": "code",
   "execution_count": 10,
   "id": "7619f5f1-7e33-4257-9868-999593810d96",
   "metadata": {},
   "outputs": [
    {
     "name": "stdout",
     "output_type": "stream",
     "text": [
      "AveragePrice  Total Volume     4046         4225         4770       Total Bags   Small Bags   Large Bags      XLarge Bags      Type      Year         Region\n",
      "   1.3300e+00   6.4237e+04   1.0367e+03   5.4455e+04   4.8160e+01   8.6969e+03   8.6036e+03   9.3250e+01            0            0   2.0150e+03            0\n",
      "   1.3500e+00   5.4877e+04   6.7428e+02   4.4639e+04   5.8330e+01   9.5056e+03   9.4081e+03   9.7490e+01            0            0   2.0150e+03            0\n",
      "   9.3000e-01   1.1822e+05   7.9470e+02   1.0915e+05   1.3050e+02   8.1454e+03   8.0422e+03   1.0314e+02            0            0   2.0150e+03            0\n",
      "   1.0800e+00   7.8992e+04   1.1320e+03   7.1976e+04   7.2580e+01   5.8112e+03   5.6774e+03   1.3376e+02            0            0   2.0150e+03            0\n",
      "   1.2800e+00   5.1040e+04   9.4148e+02   4.3838e+04   7.5780e+01   6.1839e+03   5.9863e+03   1.9769e+02            0            0   2.0150e+03            0\n",
      "   1.2600e+00   5.5980e+04   1.1843e+03   4.8068e+04   4.3610e+01   6.6839e+03   6.5565e+03   1.2744e+02            0            0   2.0150e+03            0\n",
      "\n"
     ]
    }
   ],
   "source": [
    "// Printing header for dataset.\n",
    "std::cout << std::setw(10) << \"AveragePrice\" << std::setw(14) \n",
    "    << \"Total Volume\" << std::setw(9) << \"4046\" << std::setw(13) \n",
    "    << \"4225\" << std::setw(13) << \"4770\" << std::setw(17) << \"Total Bags\" \n",
    "    << std::setw(13) << \"Small Bags\" << std::setw(13) << \"Large Bags\" \n",
    "    << std::setw(17) << \"XLarge Bags\" << std::setw(10) << \"Type\" \n",
    "    << std::setw(10) << \"Year\" << std::setw(15) << \"Region\" <<  std::endl;\n",
    "\n",
    "std::cout << matrix.submat(0, 0, matrix.n_rows-1, 5).t() << std::endl;"
   ]
  },
  {
   "cell_type": "markdown",
   "id": "dd8d4634-39dd-45ac-bf9f-2b5b43691167",
   "metadata": {},
   "source": [
    "### Exploratory Data Analysis"
   ]
  },
  {
   "cell_type": "markdown",
   "id": "ec24e405-4a4c-41ad-a560-2572d36c26f4",
   "metadata": {},
   "source": [
    "* In the below visualization we are interested to see if there are any trends that occur with the prices of conventional avocados over a period of time."
   ]
  },
  {
   "cell_type": "code",
   "execution_count": 11,
   "id": "9c2b6725-f2ea-4e1b-ae0e-2fbc2cf71833",
   "metadata": {},
   "outputs": [
    {
     "data": {
      "application/vnd.jupyter.widget-view+json": {
       "model_id": "3b2897b830fe4e92882b429ab9e230e3",
       "version_major": 2,
       "version_minor": 0
      },
      "text/plain": [
       "A Jupyter widget with unique id: 3b2897b830fe4e92882b429ab9e230e3"
      ]
     },
     "execution_count": 11,
     "metadata": {},
     "output_type": "execute_result"
    }
   ],
   "source": [
    "scatter(\"avocado.csv\", \"Date\", \"AveragePrice\", \"Date\", \"type\", \"conventional\", \"AveragePrice\", \"Date\", \"Average Price (USD)\", \"Average Price of Conventional Avocados Over Time\");\n",
    "auto img = xw::image_from_file(\"Average Price of Conventional Avocados Over Time.png\").finalize();\n",
    "img"
   ]
  },
  {
   "cell_type": "markdown",
   "id": "48f79a7b-9a06-48c3-a131-b935eff4972d",
   "metadata": {},
   "source": [
    "* In the below visualization we are interested to see if there are any trends that occur with the prices of organic avocados over a period of time."
   ]
  },
  {
   "cell_type": "code",
   "execution_count": 12,
   "id": "aadbc14a-8ff4-4269-a6f5-f25f1a5f1b68",
   "metadata": {},
   "outputs": [
    {
     "data": {
      "application/vnd.jupyter.widget-view+json": {
       "model_id": "8e823a1e3c2a40b9a87d35cc12fe3b1a",
       "version_major": 2,
       "version_minor": 0
      },
      "text/plain": [
       "A Jupyter widget with unique id: 8e823a1e3c2a40b9a87d35cc12fe3b1a"
      ]
     },
     "execution_count": 12,
     "metadata": {},
     "output_type": "execute_result"
    }
   ],
   "source": [
    "scatter(\"avocado.csv\", \"Date\", \"AveragePrice\", \"Date\", \"type\", \"organic\", \"AveragePrice\", \"Date\", \"Average Price (USD)\", \"Average Price of Organic Avocados Over Time\");\n",
    "auto img = xw::image_from_file(\"Average Price of Organic Avocados Over Time.png\").finalize();\n",
    "img"
   ]
  },
  {
   "cell_type": "markdown",
   "id": "0e48959e-07f6-4e8c-8211-7c075ab4456f",
   "metadata": {},
   "source": [
    "### Observations\n",
    "* Looks like every year avocado's are most expensive between August - November.\n",
    "* There is a steep rise in the price in 2017.\n",
    "* December - February seems to be the best months to purchase avocado's."
   ]
  },
  {
   "cell_type": "code",
   "execution_count": 13,
   "id": "baebdee8-e33c-4e98-80ff-5cbc83c71284",
   "metadata": {},
   "outputs": [
    {
     "data": {
      "application/vnd.jupyter.widget-view+json": {
       "model_id": "75ed134b64f048c69511c075036a283f",
       "version_major": 2,
       "version_minor": 0
      },
      "text/plain": [
       "A Jupyter widget with unique id: 75ed134b64f048c69511c075036a283f"
      ]
     },
     "execution_count": 13,
     "metadata": {},
     "output_type": "execute_result"
    }
   ],
   "source": [
    "barplot(\"avocado.csv\", \"AveragePrice\", \"region\", \"Date\", \"Avg.Price of Avocado by Region\", 8, 10);\n",
    "auto img = xw::image_from_file(\"Avg.Price of Avocado by Region.png\").finalize();\n",
    "img"
   ]
  },
  {
   "cell_type": "code",
   "execution_count": 14,
   "id": "181dd76f-f9a1-4e87-9c67-069f4386041f",
   "metadata": {},
   "outputs": [
    {
     "data": {
      "application/vnd.jupyter.widget-view+json": {
       "model_id": "fe46f70d2e5a4535be688c20e681df2b",
       "version_major": 2,
       "version_minor": 0
      },
      "text/plain": [
       "A Jupyter widget with unique id: fe46f70d2e5a4535be688c20e681df2b"
      ]
     },
     "execution_count": 14,
     "metadata": {},
     "output_type": "execute_result"
    }
   ],
   "source": [
    "barplot(\"avocado.csv\", \"type\", \"AveragePrice\", \"Date\", \"Avg.Price of Avocado by Type\");\n",
    "auto img = xw::image_from_file(\"Avg.Price of Avocado by Type.png\").finalize();\n",
    "img"
   ]
  },
  {
   "cell_type": "markdown",
   "id": "cd5c4860-07eb-499e-bc8b-8653b69b7784",
   "metadata": {},
   "source": [
    "### Correlation\n",
    "There is high correlation between:\n",
    "* 4046 & total volume. \n",
    "* 4225 & total volume.\n",
    "* 4770 & total volume.\n",
    "* Total bags & total volume.\n",
    "* Small bags & total bags.\n",
    "* We can observe that 4046 avocados are the most sold type in US.\n",
    "* Since there is high correlation between Total Bags, Total Volume & Small bags, \n",
    "  we assume most sales comes from small bags."
   ]
  },
  {
   "cell_type": "code",
   "execution_count": 15,
   "id": "8926f7d1-faa5-47c6-aed4-fe7c37035b09",
   "metadata": {},
   "outputs": [
    {
     "data": {
      "application/vnd.jupyter.widget-view+json": {
       "model_id": "211350146429449f9ddc1b8d90c99520",
       "version_major": 2,
       "version_minor": 0
      },
      "text/plain": [
       "A Jupyter widget with unique id: 211350146429449f9ddc1b8d90c99520"
      ]
     },
     "execution_count": 15,
     "metadata": {},
     "output_type": "execute_result"
    }
   ],
   "source": [
    "heatmap(\"avocado.csv\",\"coolwarm\", \"Correlation Heatmap\", true);\n",
    "auto img = xw::image_from_file(\"Correlation Heatmap.png\").finalize();\n",
    "img"
   ]
  },
  {
   "cell_type": "markdown",
   "id": "d1ee7b3f-6b80-45db-8df5-87d1a1a953ed",
   "metadata": {},
   "source": [
    "As we can from the heatmap above, all the Features are not correlated with the Average Price column, instead most of them are correlated with each other. "
   ]
  },
  {
   "cell_type": "markdown",
   "id": "4f2fb154-f189-4837-8210-fc6949ba840b",
   "metadata": {},
   "source": [
    "### Handling Categorical Features\n",
    "\n",
    "* One hot encoding is used to to perform “binarization” of the category and include it as a feature to train the model.\n",
    "* As we can see we have 54 regions and 2 unique types, so it's going to be easy to to transform the type & regions"
   ]
  },
  {
   "cell_type": "code",
   "execution_count": 16,
   "id": "e26a5936-d0ee-474a-a733-7b8063b3a672",
   "metadata": {},
   "outputs": [],
   "source": [
    "arma::mat output;\n",
    "data::OneHotEncoding(matrix, output, info);"
   ]
  },
  {
   "cell_type": "code",
   "execution_count": 17,
   "id": "536d598e-9894-4047-96fa-82ac14ded328",
   "metadata": {},
   "outputs": [],
   "source": [
    "// Split the data into features (X) and target (y) variables\n",
    "// targets are the last row.\n",
    "\n",
    "arma::Row<double> targets = arma::conv_to<arma::Row<double>>::from(output.row(0));"
   ]
  },
  {
   "cell_type": "code",
   "execution_count": 18,
   "id": "30bba7d3-0c09-4472-bf6f-1150b13535a1",
   "metadata": {},
   "outputs": [],
   "source": [
    "// Labels are dropped from the originally loaded data to be used as features.\n",
    "\n",
    "output.shed_row(0)"
   ]
  },
  {
   "cell_type": "markdown",
   "id": "91e8a860-5c1e-426a-8e21-a84cb5a6432c",
   "metadata": {},
   "source": [
    "### Train Test Split\n",
    "\n",
    "The dataset has to be split into a training set and a test set. Here the dataset has 18249 observations and the testRatio is taken as 20% of the total observations. This indicates the test set should have 20% * 18249 = 3649 observations and training test should have 14600 observations respectively."
   ]
  },
  {
   "cell_type": "code",
   "execution_count": 19,
   "id": "c39b65dd-aa03-4281-a057-86d4f8b293b6",
   "metadata": {},
   "outputs": [],
   "source": [
    "// Split the dataset into train and test sets using mlpack.\n",
    "\n",
    "arma::mat Xtrain;\n",
    "arma::mat Xtest;\n",
    "arma::Row<double> Ytrain;\n",
    "arma::Row<double> Ytest;\n",
    "data::Split(output, targets, Xtrain, Xtest, Ytrain, Ytest, 0.2);"
   ]
  },
  {
   "cell_type": "code",
   "execution_count": 20,
   "id": "3f936744-df4a-44d0-ac13-b2614fb06960",
   "metadata": {},
   "outputs": [],
   "source": [
    "// Convert armadillo Rows into rowvec. (Required by mlpacks' LinearRegression API in this format).\n",
    "\n",
    "arma::rowvec yTrain = arma::conv_to<arma::rowvec>::from(Ytrain);\n",
    "arma::rowvec yTest = arma::conv_to<arma::rowvec>::from(Ytest);"
   ]
  },
  {
   "cell_type": "markdown",
   "id": "63eb907c-4388-4f43-adf9-44808f384307",
   "metadata": {},
   "source": [
    "### Training the linear model\n",
    "\n",
    "Regression analysis is the most widely used method of prediction. Linear regression is used when the dataset has a linear correlation and as the name suggests, multiple linear regression has one independent variable (predictor) and one or more dependent variable(response).\n",
    "\n",
    "The simple linear regression equation is represented as y = $a + b_{1}x_{1} + b_{2}x_{2} + b_{3}x_{3} + ... + b_{n}x_{n}$ where $x_{i}$ is the ith explanatory variable, y is the dependent variable, $b_{i}$ is ith coefficient and a is the intercept.\n",
    "\n",
    "To perform linear regression we'll be using `LinearRegression()` api from mlpack."
   ]
  },
  {
   "cell_type": "code",
   "execution_count": 21,
   "id": "97fdc354-57d0-4e28-91e8-1d707fc24226",
   "metadata": {},
   "outputs": [],
   "source": [
    "// Create and Train Linear Regression model.\n",
    "\n",
    "regression::LinearRegression lr(Xtrain, yTrain, 0.5);"
   ]
  },
  {
   "cell_type": "markdown",
   "id": "c06508e0-e76e-4187-98c2-35ee226df3be",
   "metadata": {},
   "source": [
    "### Making Predictions on Test set"
   ]
  },
  {
   "cell_type": "code",
   "execution_count": 22,
   "id": "5d4cd76e-3a6b-4f4b-9bde-002acf0d126e",
   "metadata": {},
   "outputs": [],
   "source": [
    "// Make predictions on test data points.\n",
    "\n",
    "arma::rowvec yPreds;\n",
    "lr.Predict(Xtest, yPreds);"
   ]
  },
  {
   "cell_type": "code",
   "execution_count": 23,
   "id": "e25fa64a-e728-43ad-abfb-d8e385a62d73",
   "metadata": {},
   "outputs": [],
   "source": [
    "// Save the yTest and yPreds into csv for generating plots.\n",
    "arma::mat preds;\n",
    "preds.insert_rows(0, yTest);\n",
    "preds.insert_rows(1, yPreds);"
   ]
  },
  {
   "cell_type": "code",
   "execution_count": 24,
   "id": "020e0c3e-81bc-4bcb-be8d-4febdf8b97ee",
   "metadata": {},
   "outputs": [],
   "source": [
    "mlpack::data::Save(\"predictions.csv\", preds);"
   ]
  },
  {
   "cell_type": "markdown",
   "id": "747a76d6-bf9c-4546-8527-289b1ad04463",
   "metadata": {},
   "source": [
    "### Model Evaluation\n",
    "Test data is visualized with `yTest` and `yPreds`, the blue points indicates the data points and the blue line indicates the regression line or best fit line."
   ]
  },
  {
   "cell_type": "code",
   "execution_count": 25,
   "id": "71a54770-db87-4b69-abdd-9efba5accccf",
   "metadata": {},
   "outputs": [
    {
     "data": {
      "application/vnd.jupyter.widget-view+json": {
       "model_id": "d3ead2cbe58c407bb136fa3fdf7942a3",
       "version_major": 2,
       "version_minor": 0
      },
      "text/plain": [
       "A Jupyter widget with unique id: d3ead2cbe58c407bb136fa3fdf7942a3"
      ]
     },
     "execution_count": 25,
     "metadata": {},
     "output_type": "execute_result"
    }
   ],
   "source": [
    "lmplot(\"predictions.csv\", \"predsScatter\");\n",
    "auto img = xw::image_from_file(\"predsScatter.png\").finalize();    \n",
    "img"
   ]
  },
  {
   "cell_type": "code",
   "execution_count": 26,
   "id": "e8d8626e-81b3-498e-851d-59d49c937c01",
   "metadata": {},
   "outputs": [
    {
     "data": {
      "application/vnd.jupyter.widget-view+json": {
       "model_id": "792d2da160b54d9c8374fd2c45dbe2a4",
       "version_major": 2,
       "version_minor": 0
      },
      "text/plain": [
       "A Jupyter widget with unique id: 792d2da160b54d9c8374fd2c45dbe2a4"
      ]
     },
     "execution_count": 26,
     "metadata": {},
     "output_type": "execute_result"
    }
   ],
   "source": [
    "histplot(\"predictions.csv\", \"Distribution of residuals\");\n",
    "auto img = xw::image_from_file(\"Distribution of residuals.png\").finalize();    \n",
    "img"
   ]
  },
  {
   "cell_type": "markdown",
   "id": "ea1c1047-9570-4c47-8a5b-89f984e98f28",
   "metadata": {},
   "source": [
    "## Evaluation Metrics for Regression model\n",
    "\n",
    "In the Previous cell we have visualized our model performance by plotting the best fit line. Now we will use various evaluation metrics to understand how well our model has performed.\n",
    "\n",
    "* Mean Absolute Error (MAE) is the sum of absolute differences between actual and predicted values, without considering the direction.\n",
    "$$ MAE = \\frac{\\sum_{i=1}^n\\lvert y_{i} - \\hat{y_{i}}\\rvert} {n} $$\n",
    "* Mean Squared Error (MSE) is calculated as the mean or average of the squared differences between predicted and expected target values in a dataset, a lower value is better\n",
    "$$ MSE = \\frac {1}{n} \\sum_{i=1}^n (y_{i} - \\hat{y_{i}})^2 $$\n",
    "* Root Mean Squared Error (RMSE), Square root of MSE yields root mean square error (RMSE) it indicates the spread of the residual errors. It is always positive, and a lower value indicates better performance.\n",
    "$$ RMSE = \\sqrt{\\frac {1}{n} \\sum_{i=1}^n (y_{i} - \\hat{y_{i}})^2} $$"
   ]
  },
  {
   "cell_type": "code",
   "execution_count": 27,
   "id": "8b323dc0-61f8-43c1-ae8a-38027c04ff88",
   "metadata": {},
   "outputs": [
    {
     "name": "stdout",
     "output_type": "stream",
     "text": [
      "Mean Absolute Error: 0.201418\n",
      "Mean Squared Error: 0.0721066\n",
      "Root Mean Squared Error: 0.268527\n"
     ]
    }
   ],
   "source": [
    "// Model evaluation metrics.\n",
    "\n",
    "std::cout << \"Mean Absolute Error: \" << arma::mean(arma::abs(yPreds - yTest)) << std::endl;\n",
    "std::cout << \"Mean Squared Error: \" << arma::mean(arma::pow(yPreds - yTest,2)) << std::endl;\n",
    "std::cout << \"Root Mean Squared Error: \" << sqrt(arma::mean(arma::pow(yPreds - yTest,2))) << std::endl;"
   ]
  },
  {
   "cell_type": "markdown",
   "id": "96c00e1d-41cf-4b95-99da-20a9718a43a4",
   "metadata": {},
   "source": [
    "From the above metrics, we can notice that our model MAE is ~0.2, which is relatively small compared to our average price of $1.405, from this and the above plot we can conclude our model is a reasonably good fit."
   ]
  }
 ],
 "metadata": {
  "kernelspec": {
   "display_name": "C++14",
   "language": "C++14",
   "name": "xcpp14"
  },
  "language_info": {
   "codemirror_mode": "text/x-c++src",
   "file_extension": ".cpp",
   "mimetype": "text/x-c++src",
   "name": "c++",
   "version": "14"
  }
 },
 "nbformat": 4,
 "nbformat_minor": 5
}
