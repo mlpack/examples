{
  "metadata":{
    "language_info":{
      "codemirror_mode":"text/x-c++src",
      "file_extension":".cpp",
      "mimetype":"text/x-c++src",
      "name":"c++",
      "version":"14"
    },
    "kernelspec":{
      "name":"xcpp14",
      "display_name":"C++14",
      "language":"C++14"
    }
  },
  "nbformat_minor":4,
  "nbformat":4,
  "cells":[
    {
      "cell_type":"markdown",
      "source":"[![Binder](https://mybinder.org/badge_logo.svg)](https://lab.mlpack.org/v2/gh/mlpack/examples/master?urlpath=lab%2Ftree%2Fcifar10_transformation_with_pca%2Fcifar-10-pca-cpp.ipynb)",
      "metadata":{

      }
    },
    {
      "cell_type":"code",
      "source":"/**\n * @file cifar-10-pca-cpp.ipynb\n *\n * A simple example usage of Principal Component Analysis (PCA)\n * applied to the CIFAR-10 dataset.\n * \n * https://www.cs.toronto.edu/~kriz/cifar.html\n */",
      "metadata":{
        "trusted":true
      },
      "execution_count":1,
      "outputs":[

      ]
    },
    {
      "cell_type":"code",
      "source":"!wget -O - https://lab.mlpack.org/data/cifar10-images.tar.gz | tar -xz",
      "metadata":{
        "trusted":true
      },
      "execution_count":2,
      "outputs":[

      ]
    },
    {
      "cell_type":"code",
      "source":"#include <mlpack/xeus-cling.hpp>\n\n#include <mlpack/core.hpp>\n#include <mlpack/methods/pca/pca.hpp>\n\n// Additional decomposition methods.\n#include <mlpack/methods/pca/decomposition_policies/exact_svd_method.hpp>\n#include <mlpack/methods/pca/decomposition_policies/quic_svd_method.hpp>\n#include <mlpack/methods/pca/decomposition_policies/randomized_svd_method.hpp>\n#include <mlpack/methods/pca/decomposition_policies/randomized_block_krylov_method.hpp>\n\n// Enable image load/save support.\n#define HAS_STB",
      "metadata":{
        "trusted":true
      },
      "execution_count":3,
      "outputs":[

      ]
    },
    {
      "cell_type":"code",
      "source":"// Header file to list files.\n#include <boost/filesystem.hpp>\n\n// Header files to create and show the plot.\n#define WITHOUT_NUMPY 1\n#include \"matplotlibcpp.h\"\n#include \"xwidgets/ximage.hpp\"\n\nnamespace plt = matplotlibcpp;",
      "metadata":{
        "trusted":true
      },
      "execution_count":4,
      "outputs":[

      ]
    },
    {
      "cell_type":"code",
      "source":"using namespace mlpack;",
      "metadata":{
        "trusted":true
      },
      "execution_count":5,
      "outputs":[

      ]
    },
    {
      "cell_type":"code",
      "source":"using namespace mlpack::pca;",
      "metadata":{
        "trusted":true
      },
      "execution_count":6,
      "outputs":[

      ]
    },
    {
      "cell_type":"code",
      "source":"// Function that returns all images and labels for the specified path.\nvoid GetImageData(const std::string& path,\n                  std::vector<std::string>& imagesPath,\n                  std::vector<std::string>& imageLabels)\n{\n    boost::filesystem::path dir(path);\n\n    std::string label;\n    for (auto i = boost::filesystem::recursive_directory_iterator(dir);\n         i != boost::filesystem::recursive_directory_iterator(); i++)\n    {\n        // Discard directories.\n        if (boost::filesystem::is_regular_file(i->path()) &&\n            i->path().extension() == \".png\" &&\n            i->path().filename().string()[0] != '.')\n        {\n            imagesPath.push_back(i->path().string());\n            imageLabels.push_back(label);\n        }\n        else if (i->path().filename().string()[0] != '.')\n        {\n            label = i->path().filename().string();\n        }\n    }\n}\n\n// Create two list one that holds the path for each image in the training\n// set and another one that holds the corresponding labels.\nstd::vector<std::string> trainImagesPath;\nstd::vector<std::string> trainLabels;\nGetImageData(\"cifar10-images/train/\", trainImagesPath, trainLabels);\n\n// Create two list one that holds the path for each image in the testing\n// set and another one that holds the corresponding labels.\nstd::vector<std::string> testImagesPath;\nstd::vector<std::string> testLabels;\nGetImageData(\"cifar10-images/test/\", testImagesPath, testLabels);",
      "metadata":{
        "trusted":true
      },
      "execution_count":7,
      "outputs":[

      ]
    },
    {
      "cell_type":"code",
      "source":"// Print the image shape of the first image from the testing data.\narma::Mat<unsigned char> imageMatrix;\ndata::ImageInfo info;\ndata::Load(testImagesPath[0], imageMatrix, info, false);\n\nstd::cout << \"Image info -\"\n          << \" Width:\" << info.Width()\n          << \" Height: \" << info.Height()\n          << \" Channels: \" << info.Channels() << std::endl;",
      "metadata":{
        "trusted":true
      },
      "execution_count":8,
      "outputs":[
        {
          "name":"stdout",
          "text":"Image info - Width:32 Height: 32 Channels: 3\n",
          "output_type":"stream"
        }
      ]
    },
    {
      "cell_type":"code",
      "source":"// Display image number 0 from the training data.\nauto im = xw::image_from_file(trainImagesPath[0]).finalize();\nim.layout().height = \"300px\";\nstd::cout << trainLabels[0] << std::endl;\nim",
      "metadata":{
        "trusted":true
      },
      "execution_count":9,
      "outputs":[
        {
          "name":"stdout",
          "text":"Airplane\n",
          "output_type":"stream"
        },
        {
          "execution_count":9,
          "output_type":"execute_result",
          "data":{
            "application/vnd.jupyter.widget-view+json":{
              "model_id":"2c4253a8888047299673f3830eb24795",
              "version_major":2,
              "version_minor":0
            },
            "text/plain":"A Jupyter widget"
          },
          "metadata":{

          }
        }
      ]
    },
    {
      "cell_type":"code",
      "source":"// Display image number 2000 from the testing data.\nauto im = xw::image_from_file(testImagesPath[2000]).finalize();\nim.layout().height = \"300px\";\nstd::cout << testLabels[2000] << std::endl;\nim",
      "metadata":{
        "trusted":true
      },
      "execution_count":10,
      "outputs":[
        {
          "name":"stdout",
          "text":"Dog\n",
          "output_type":"stream"
        },
        {
          "execution_count":10,
          "output_type":"execute_result",
          "data":{
            "application/vnd.jupyter.widget-view+json":{
              "model_id":"b5d31202ac5d43d2b3d27236b25ba055",
              "version_major":2,
              "version_minor":0
            },
            "text/plain":"A Jupyter widget"
          },
          "metadata":{

          }
        }
      ]
    },
    {
      "cell_type":"code",
      "source":"// Load all images from the test set into a matrix.\narma::mat testImageMatrix;\ndata::Load(testImagesPath, testImageMatrix, info, false);\n\nstd::cout << testImageMatrix.n_cols << \" images loaded.\" << std::endl;",
      "metadata":{
        "trusted":true
      },
      "execution_count":11,
      "outputs":[
        {
          "name":"stdout",
          "text":"10000 images loaded.\n",
          "output_type":"stream"
        }
      ]
    },
    {
      "cell_type":"code",
      "source":"// Perform Principal Components Analysis using the randomized method.\n// Other decomposition methods are 'exact', 'randomized-block-krylov', 'quic'.\n//\n// For more information checkout https://www.mlpack.org/doc/stable/doxygen/classmlpack_1_1pca_1_1PCA.html\n// or uncomment the line below.\n// ?PCA<>\nPCA<RandomizedSVDPolicy> pca(true);\npca.Apply(testImageMatrix, 2);",
      "metadata":{
        "trusted":true
      },
      "execution_count":12,
      "outputs":[

      ]
    },
    {
      "cell_type":"code",
      "source":"// Print the first ten columns of the transformed input.\nstd::cout << testImageMatrix.cols(0, 10).t() << std::endl;",
      "metadata":{
        "trusted":true
      },
      "execution_count":13,
      "outputs":[
        {
          "name":"stdout",
          "text":"  -22.3394   19.6474\n  -33.1218  -20.4882\n   40.1167   26.8005\n  -15.9143  -17.9865\n    8.9120  -17.3623\n    9.5697   -9.3122\n  -29.6697   21.7194\n  -53.8475  -19.0090\n  -67.3592   -6.5962\n  -15.9824   -2.8275\n   -3.5093   -8.8609\n\n",
          "output_type":"stream"
        }
      ]
    },
    {
      "cell_type":"code",
      "source":"// Helper function to get the label indices.\narma::uvec getIndices(const std::vector<std::string>& labels, const std::string& label)\n{\n    std::vector<arma::uword> index;\n    for (size_t i = 0; i < labels.size(); ++i)\n    {\n        if (labels[i] == label)\n            index.push_back(i);\n    }\n    \n    arma::uvec indicesVec = arma::uvec(index);\n    return indicesVec;\n}",
      "metadata":{
        "trusted":true
      },
      "execution_count":14,
      "outputs":[

      ]
    },
    {
      "cell_type":"code",
      "source":"// Plot the transformed input.\n\n// CIFAR-10 labels.\nstd::vector<std::string> labels({\"Airplane\", \"Automobile\", \"Bird\",\n                                 \"Cat\", \"Deer\", \"Dog\", \"Frog\",\n                                 \"Horse\", \"Ship\", \"Truck\"});\nplt::figure_size(800, 800);\n\nfor (size_t i = 0; i < labels.size(); ++i)\n{\n    // Get the indices for the label 'Airplane'.\n    arma::mat dataset = testImageMatrix.cols(getIndices(testLabels, labels[i]));\n    \n    // Get the data for the indices.\n    std::vector<double> x = arma::conv_to<std::vector<double>>::from(dataset.row(0));\n    std::vector<double> y = arma::conv_to<std::vector<double>>::from(dataset.row(1));\n    \n    // Set the label for the legend.\n    std::map<std::string, std::string> m;\n    m.insert(std::pair<std::string, std::string>(\"label\", labels[i]));\n    \n    plt::scatter(x, y, 10, m);\n}\n\nplt::xlabel(\"Principal Component - 1\");\nplt::ylabel(\"Principal Component - 2\");\nplt::title(\"Projection of CIFAR-10 dataset onto first two principal components\");\nplt::legend();\n\nplt::save(\"./plot.png\");\nauto im = xw::image_from_file(\"plot.png\").finalize();\nim",
      "metadata":{
        "trusted":true
      },
      "execution_count":15,
      "outputs":[
        {
          "execution_count":15,
          "output_type":"execute_result",
          "data":{
            "application/vnd.jupyter.widget-view+json":{
              "model_id":"99e098e6040447ff9988d20eb694e754",
              "version_major":2,
              "version_minor":0
            },
            "text/plain":"A Jupyter widget"
          },
          "metadata":{

          }
        }
      ]
    },
    {
      "cell_type":"markdown",
      "source":"We can observe some structure in the plot above, samples belonging to the same class are close to each other;\nimages that are different like a Truck and a Horse are further away. We can also observe that the\nfirst two principal components aren't sufficient for separating the classes.",
      "metadata":{

      }
    }
  ]
}
