{
 "cells": [
  {
   "cell_type": "code",
   "execution_count": 4,
   "id": "98c1756c",
   "metadata": {},
   "outputs": [],
   "source": [
    "\n",
    "#include <sstream>\n",
    "#include <mlpack/xeus-cling.hpp>\n",
    "\n",
    "#include <mlpack/core.hpp>\n",
    "#include <mlpack/core/data/load_impl.hpp>\n",
    "#include <mlpack/core/data/dataset_mapper.hpp>\n",
    "#include <mlpack/core/data/map_policies/increment_policy.hpp>\n",
    "#include <mlpack/core/data/map_policies/missing_policy.hpp>\n",
    "#include <mlpack/core/data/imputer.hpp>\n",
    "#include <mlpack/core/data/imputation_methods/custom_imputation.hpp>\n",
    "#include <mlpack/core/data/imputation_methods/listwise_deletion.hpp>\n",
    "#include <mlpack/core/data/imputation_methods/mean_imputation.hpp>\n",
    "#include <mlpack/core/data/imputation_methods/median_imputation.hpp>\n",
    "\n",
    "\n",
    "\n",
    "using namespace mlpack;\n",
    "using namespace mlpack::data;\n",
    "using namespace std;\n"
   ]
  },
  {
   "cell_type": "code",
   "execution_count": 28,
   "id": "9b48d327",
   "metadata": {},
   "outputs": [],
   "source": [
    " arma::mat columnWiseInput(\"3.0 arma::datum::nan 2.0  arma::datum::nan ;\"\n",
    "                  \"5.0 6.0 0.0 6.0;\"\n",
    "                  \"9.0 8.0 4.0 8.0;\");\n",
    "  arma::mat rowWiseInput(columnWiseInput);\n",
    "  double mappedValue = 0.0;\n",
    "\n",
    "  mlpack::data::MeanImputation<double> imputer;\n",
    "\n",
    "  // column wise\n",
    "  imputer.Impute(columnWiseInput, arma::datum::nan, 0, true);"
   ]
  },
  {
   "cell_type": "code",
   "execution_count": 27,
   "id": "de803be3",
   "metadata": {},
   "outputs": [
    {
     "name": "stdout",
     "output_type": "stream",
     "text": [
      "   3.0000        0   2.0000        0\n",
      "   5.0000   6.0000        0   6.0000\n",
      "   9.0000   8.0000   4.0000   8.0000\n"
     ]
    }
   ],
   "source": [
    "std:: cout << columnWiseInput;"
   ]
  },
  {
   "cell_type": "code",
   "execution_count": 24,
   "id": "6eb2e87a",
   "metadata": {},
   "outputs": [],
   "source": [
    " arma::mat rowWiseInput(columnWiseInput);\n",
    "  double mappedValue = 0.0;\n",
    "\n",
    "  mlpack::data::MeanImputation<double> imputer;\n",
    "\n",
    "  // column wise\n",
    "  imputer.Impute(columnWiseInput, arma::datum::nan, 0, true);"
   ]
  },
  {
   "cell_type": "code",
   "execution_count": 25,
   "id": "5d7a602e",
   "metadata": {},
   "outputs": [
    {
     "name": "stdout",
     "output_type": "stream",
     "text": [
      "   3.0000        0   2.0000        0\n",
      "   5.0000   6.0000        0   6.0000\n",
      "   9.0000   8.0000   4.0000   8.0000\n"
     ]
    }
   ],
   "source": [
    "std:: cout << columnWiseInput;"
   ]
  },
  {
   "cell_type": "code",
   "execution_count": null,
   "id": "e3e276b8",
   "metadata": {},
   "outputs": [],
   "source": []
  },
  {
   "cell_type": "code",
   "execution_count": null,
   "id": "b31d9ce3",
   "metadata": {},
   "outputs": [],
   "source": []
  }
 ],
 "metadata": {
  "kernelspec": {
   "display_name": "C++14",
   "language": "C++14",
   "name": "xcpp14"
  },
  "language_info": {
   "codemirror_mode": "text/x-c++src",
   "file_extension": ".cpp",
   "mimetype": "text/x-c++src",
   "name": "c++",
   "version": "14"
  }
 },
 "nbformat": 4,
 "nbformat_minor": 5
}
