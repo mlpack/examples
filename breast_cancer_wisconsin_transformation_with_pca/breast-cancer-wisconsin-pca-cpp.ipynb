{
  "metadata":{
    "language_info":{
      "codemirror_mode":"text/x-c++src",
      "file_extension":".cpp",
      "mimetype":"text/x-c++src",
      "name":"c++",
      "version":"14"
    },
    "kernelspec":{
      "name":"xcpp14",
      "display_name":"C++14",
      "language":"C++14"
    }
  },
  "nbformat_minor":4,
  "nbformat":4,
  "cells":[
    {
      "cell_type":"markdown",
      "source":"[![Binder](https://mybinder.org/badge_logo.svg)](https://lab.mlpack.org/v2/gh/mlpack/examples/master?urlpath=lab%2Ftree%2Fbreast_cancer_wisconsin_transformation_with_pca%2Fbreast-cancer-wisconsin-pca-cpp.ipynb)",
      "metadata":{

      }
    },
    {
      "cell_type":"code",
      "source":"/**\n * @file breast-cancer-wisconsin-pca-cpp.ipynb\n *\n * A simple example usage of Principal Component Analysis (PCA)\n * applied to the UCI Breast Cancer dataset.\n *\n * https://archive.ics.uci.edu/ml/datasets/Breast+Cancer+Wisconsin+(Diagnostic)\n */",
      "metadata":{
        "trusted":true
      },
      "execution_count":1,
      "outputs":[

      ]
    },
    {
      "cell_type":"code",
      "source":"!wget https://lab.mlpack.org/data/breast-cancer-wisconsin.csv",
      "metadata":{
        "trusted":true
      },
      "execution_count":2,
      "outputs":[
        {
          "name":"stdout",
          "text":"--2020-07-27 14:35:32--  https://lab.mlpack.org/data/breast-cancer-wisconsin.csv\nResolving lab.mlpack.org (lab.mlpack.org)... 95.216.66.112\nConnecting to lab.mlpack.org (lab.mlpack.org)|95.216.66.112|:443... connected.\nHTTP request sent, awaiting response... 200 OK\nLength: 124197 (121K) [application/octet-stream]\nSaving to: ‘breast-cancer-wisconsin.csv.1’\n\n     0K .......... .......... .......... .......... .......... 41%  221M 0s\n    50K .......... .......... .......... .......... .......... 82%  227M 0s\n   100K .......... .......... .                               100%  254M=0.001s\n\n2020-07-27 14:35:32 (229 MB/s) - ‘breast-cancer-wisconsin.csv.1’ saved [124197/124197]\n\n",
          "output_type":"stream"
        }
      ]
    },
    {
      "cell_type":"code",
      "source":"#include <mlpack/xeus-cling.hpp>\n\n#include <mlpack/core.hpp>\n#include <mlpack/methods/pca/pca.hpp>",
      "metadata":{
        "trusted":true
      },
      "execution_count":3,
      "outputs":[

      ]
    },
    {
      "cell_type":"code",
      "source":"// Header files to create and show the plot.\n#define WITHOUT_NUMPY 1\n#include \"matplotlibcpp.h\"\n#include \"xwidgets/ximage.hpp\"\n\nnamespace plt = matplotlibcpp;",
      "metadata":{
        "trusted":true
      },
      "execution_count":4,
      "outputs":[

      ]
    },
    {
      "cell_type":"code",
      "source":"using namespace mlpack;",
      "metadata":{
        "trusted":true
      },
      "execution_count":5,
      "outputs":[

      ]
    },
    {
      "cell_type":"code",
      "source":"using namespace mlpack::pca;",
      "metadata":{
        "trusted":true
      },
      "execution_count":6,
      "outputs":[

      ]
    },
    {
      "cell_type":"code",
      "source":"arma::mat input;\ndata::Load(\"breast-cancer-wisconsin.csv\", input);",
      "metadata":{
        "trusted":true
      },
      "execution_count":7,
      "outputs":[

      ]
    },
    {
      "cell_type":"code",
      "source":"// Print the first 10 rows of the input data.\nstd::cout << input.submat(0, 0, input.n_rows - 1 , 10).t() << std::endl;",
      "metadata":{
        "trusted":true
      },
      "execution_count":8,
      "outputs":[
        {
          "name":"stdout",
          "text":"            0   1.7990e+01   1.0380e+01   1.2280e+02   1.0010e+03   1.1840e-01   2.7760e-01   3.0010e-01   1.4710e-01   2.4190e-01   7.8710e-02   1.0950e+00   9.0530e-01   8.5890e+00   1.5340e+02   6.3990e-03   4.9040e-02   5.3730e-02   1.5870e-02   3.0030e-02   6.1930e-03   2.5380e+01   1.7330e+01   1.8460e+02   2.0190e+03   1.6220e-01   6.6560e-01   7.1190e-01   2.6540e-01   4.6010e-01   1.1890e-01            0\n   1.0000e+00   2.0570e+01   1.7770e+01   1.3290e+02   1.3260e+03   8.4740e-02   7.8640e-02   8.6900e-02   7.0170e-02   1.8120e-01   5.6670e-02   5.4350e-01   7.3390e-01   3.3980e+00   7.4080e+01   5.2250e-03   1.3080e-02   1.8600e-02   1.3400e-02   1.3890e-02   3.5320e-03   2.4990e+01   2.3410e+01   1.5880e+02   1.9560e+03   1.2380e-01   1.8660e-01   2.4160e-01   1.8600e-01   2.7500e-01   8.9020e-02            0\n   2.0000e+00   1.9690e+01   2.1250e+01   1.3000e+02   1.2030e+03   1.0960e-01   1.5990e-01   1.9740e-01   1.2790e-01   2.0690e-01   5.9990e-02   7.4560e-01   7.8690e-01   4.5850e+00   9.4030e+01   6.1500e-03   4.0060e-02   3.8320e-02   2.0580e-02   2.2500e-02   4.5710e-03   2.3570e+01   2.5530e+01   1.5250e+02   1.7090e+03   1.4440e-01   4.2450e-01   4.5040e-01   2.4300e-01   3.6130e-01   8.7580e-02            0\n   3.0000e+00   1.1420e+01   2.0380e+01   7.7580e+01   3.8610e+02   1.4250e-01   2.8390e-01   2.4140e-01   1.0520e-01   2.5970e-01   9.7440e-02   4.9560e-01   1.1560e+00   3.4450e+00   2.7230e+01   9.1100e-03   7.4580e-02   5.6610e-02   1.8670e-02   5.9630e-02   9.2080e-03   1.4910e+01   2.6500e+01   9.8870e+01   5.6770e+02   2.0980e-01   8.6630e-01   6.8690e-01   2.5750e-01   6.6380e-01   1.7300e-01            0\n   4.0000e+00   2.0290e+01   1.4340e+01   1.3510e+02   1.2970e+03   1.0030e-01   1.3280e-01   1.9800e-01   1.0430e-01   1.8090e-01   5.8830e-02   7.5720e-01   7.8130e-01   5.4380e+00   9.4440e+01   1.1490e-02   2.4610e-02   5.6880e-02   1.8850e-02   1.7560e-02   5.1150e-03   2.2540e+01   1.6670e+01   1.5220e+02   1.5750e+03   1.3740e-01   2.0500e-01   4.0000e-01   1.6250e-01   2.3640e-01   7.6780e-02            0\n   5.0000e+00   1.2450e+01   1.5700e+01   8.2570e+01   4.7710e+02   1.2780e-01   1.7000e-01   1.5780e-01   8.0890e-02   2.0870e-01   7.6130e-02   3.3450e-01   8.9020e-01   2.2170e+00   2.7190e+01   7.5100e-03   3.3450e-02   3.6720e-02   1.1370e-02   2.1650e-02   5.0820e-03   1.5470e+01   2.3750e+01   1.0340e+02   7.4160e+02   1.7910e-01   5.2490e-01   5.3550e-01   1.7410e-01   3.9850e-01   1.2440e-01            0\n   6.0000e+00   1.8250e+01   1.9980e+01   1.1960e+02   1.0400e+03   9.4630e-02   1.0900e-01   1.1270e-01   7.4000e-02   1.7940e-01   5.7420e-02   4.4670e-01   7.7320e-01   3.1800e+00   5.3910e+01   4.3140e-03   1.3820e-02   2.2540e-02   1.0390e-02   1.3690e-02   2.1790e-03   2.2880e+01   2.7660e+01   1.5320e+02   1.6060e+03   1.4420e-01   2.5760e-01   3.7840e-01   1.9320e-01   3.0630e-01   8.3680e-02            0\n   7.0000e+00   1.3710e+01   2.0830e+01   9.0200e+01   5.7790e+02   1.1890e-01   1.6450e-01   9.3660e-02   5.9850e-02   2.1960e-01   7.4510e-02   5.8350e-01   1.3770e+00   3.8560e+00   5.0960e+01   8.8050e-03   3.0290e-02   2.4880e-02   1.4480e-02   1.4860e-02   5.4120e-03   1.7060e+01   2.8140e+01   1.1060e+02   8.9700e+02   1.6540e-01   3.6820e-01   2.6780e-01   1.5560e-01   3.1960e-01   1.1510e-01            0\n   8.0000e+00   1.3000e+01   2.1820e+01   8.7500e+01   5.1980e+02   1.2730e-01   1.9320e-01   1.8590e-01   9.3530e-02   2.3500e-01   7.3890e-02   3.0630e-01   1.0020e+00   2.4060e+00   2.4320e+01   5.7310e-03   3.5020e-02   3.5530e-02   1.2260e-02   2.1430e-02   3.7490e-03   1.5490e+01   3.0730e+01   1.0620e+02   7.3930e+02   1.7030e-01   5.4010e-01   5.3900e-01   2.0600e-01   4.3780e-01   1.0720e-01            0\n   9.0000e+00   1.2460e+01   2.4040e+01   8.3970e+01   4.7590e+02   1.1860e-01   2.3960e-01   2.2730e-01   8.5430e-02   2.0300e-01   8.2430e-02   2.9760e-01   1.5990e+00   2.0390e+00   2.3940e+01   7.1490e-03   7.2170e-02   7.7430e-02   1.4320e-02   1.7890e-02   1.0080e-02   1.5090e+01   4.0680e+01   9.7650e+01   7.1140e+02   1.8530e-01   1.0580e+00   1.1050e+00   2.2100e-01   4.3660e-01   2.0750e-01            0\n   1.0000e+01   1.6020e+01   2.3240e+01   1.0270e+02   7.9780e+02   8.2060e-02   6.6690e-02   3.2990e-02   3.3230e-02   1.5280e-01   5.6970e-02   3.7950e-01   1.1870e+00   2.4660e+00   4.0510e+01   4.0290e-03   9.2690e-03   1.1010e-02   7.5910e-03   1.4600e-02   3.0420e-03   1.9190e+01   3.3880e+01   1.2380e+02   1.1500e+03   1.1810e-01   1.5510e-01   1.4590e-01   9.9750e-02   2.9480e-01   8.4520e-02            0\n\n",
          "output_type":"stream"
        }
      ]
    },
    {
      "cell_type":"code",
      "source":"// Split the labels and ids (first and last column).\narma::rowvec labels = input.row(input.n_rows - 1);\narma::mat dataset = input.rows(1, input.n_rows - 2);",
      "metadata":{
        "trusted":true
      },
      "execution_count":9,
      "outputs":[

      ]
    },
    {
      "cell_type":"code",
      "source":"// Perform Principal Components Analysis using the exact method.\n// Other decomposition methods are 'randomized', 'randomized-block-krylov', 'quic'.\n//\n// For more information checkout https://www.mlpack.org/doc/mlpack-3.3.2/doxygen/classmlpack_1_1pca_1_1PCA.html\n// or uncomment the line below.\n// ?PCA<>\nPCA<> pca(true);\npca.Apply(dataset, 2);",
      "metadata":{
        "trusted":true
      },
      "execution_count":10,
      "outputs":[

      ]
    },
    {
      "cell_type":"code",
      "source":"// Print the first ten columns of the transformed input.\nstd::cout << dataset.cols(0, 10).t() << std::endl;",
      "metadata":{
        "trusted":true
      },
      "execution_count":11,
      "outputs":[
        {
          "name":"stdout",
          "text":"   -9.1848   -1.9469\n   -2.3857    3.7649\n   -5.7289    1.0742\n   -7.1167  -10.2666\n   -3.9318    1.9464\n   -2.3782   -3.9465\n   -2.2369    2.6877\n   -2.1414   -2.3382\n   -3.1721   -3.3888\n   -6.3462   -7.7204\n    0.8097    2.6569\n\n",
          "output_type":"stream"
        }
      ]
    },
    {
      "cell_type":"code",
      "source":"// Plot the transformed input.\n\n// Get the indices for the labels  0.0 / Benign.\narma::mat dataset0 = dataset.cols(arma::find(labels == 0.0));\n\n// Get the data to for the indices.\nstd::vector<double> x0 = arma::conv_to<std::vector<double>>::from(dataset0.row(0));\nstd::vector<double> y0 = arma::conv_to<std::vector<double>>::from(dataset0.row(1));\n\n// Get the indices for the label 1.0 / Malignant.\narma::mat dataset1 = dataset.cols(arma::find(labels == 1.0));\n\n// Get the data to for the indices.\nstd::vector<double> x1 = arma::conv_to<std::vector<double>>::from(dataset1.row(0));\nstd::vector<double> y1 = arma::conv_to<std::vector<double>>::from(dataset1.row(1));\n\nplt::figure_size(800, 800);\nplt::scatter(x0, y0, 4);\nplt::scatter(x1, y1, 4);\n\nplt::xlabel(\"Principal Component - 1\");\nplt::ylabel(\"Principal Component - 2\");\nplt::title(\"Projection of Breast Cancer dataset onto first two principal components\");\n\nplt::save(\"./basic2.png\");\nauto im = xw::image_from_file(\"basic2.png\").finalize();\nim",
      "metadata":{
        "trusted":true
      },
      "execution_count":12,
      "outputs":[
        {
          "execution_count":12,
          "output_type":"execute_result",
          "data":{
            "application/vnd.jupyter.widget-view+json":{
              "model_id":"1e1c76bc6add44709b333d13c2397b4f",
              "version_major":2,
              "version_minor":0
            },
            "text/plain":"A Jupyter widget"
          },
          "metadata":{

          }
        }
      ]
    },
    {
      "cell_type":"markdown",
      "source":"We can observe that the two classes Benign and Malignant, when projected to a two-dimensional space,\ncan be linearly separable up to some extent. Also we can observe that the Benign class is spread\nout as compared to the Malignant class.",
      "metadata":{

      }
    }
  ]
}
