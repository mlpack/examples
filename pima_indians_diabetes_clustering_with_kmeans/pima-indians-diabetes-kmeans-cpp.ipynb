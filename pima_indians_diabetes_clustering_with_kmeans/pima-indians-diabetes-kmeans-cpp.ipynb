{
  "metadata":{
    "kernelspec":{
      "display_name":"C++14",
      "language":"C++14",
      "name":"xcpp14"
    },
    "language_info":{
      "codemirror_mode":"text/x-c++src",
      "file_extension":".cpp",
      "mimetype":"text/x-c++src",
      "name":"c++",
      "version":"14"
    }
  },
  "nbformat_minor":4,
  "nbformat":4,
  "cells":[
    {
      "cell_type":"markdown",
      "source":"[![Binder](https://mybinder.org/badge_logo.svg)](https://lab.mlpack.org/v2/gh/mlpack/examples/master?urlpath=lab%2Ftree%2Fpima_indians_diabetes_clustering_with_kmeans%2Fpima-indians-diabetes-kmeans-cpp.ipynb)",
      "metadata":{

      }
    },
    {
      "cell_type":"code",
      "source":"/**\n * @file pima-indians-diabetes-kmeans-cpp.ipynb\n *\n * A simple example usage of K-Means clustering\n * applied to the Pima Indians Diabetes dataset.\n * \n * https://www.kaggle.com/uciml/pima-indians-diabetes-database\n */",
      "metadata":{
        "trusted":true
      },
      "execution_count":1,
      "outputs":[

      ]
    },
    {
      "cell_type":"markdown",
      "source":"Download Pima Indians Diabetes dataset.",
      "metadata":{

      }
    },
    {
      "cell_type":"code",
      "source":"!wget -q -O pima-indians-diabetes.csv https://lab.mlpack.org/data/pima-indians-diabetes.csv",
      "metadata":{
        "trusted":true
      },
      "execution_count":2,
      "outputs":[

      ]
    },
    {
      "cell_type":"code",
      "source":"#include <mlpack/xeus-cling.hpp>\n\n#include <mlpack/core.hpp>\n#include <mlpack/methods/pca/pca.hpp>\n#include <mlpack/methods/kmeans/kmeans.hpp>\n\n#include <sstream>",
      "metadata":{
        "trusted":true
      },
      "execution_count":3,
      "outputs":[

      ]
    },
    {
      "cell_type":"code",
      "source":"// Header files to create and show the plot.\n#define WITHOUT_NUMPY 1\n#include \"matplotlibcpp.h\"\n#include \"xwidgets/ximage.hpp\"\n#include \"scatter.hpp\"\n\nnamespace plt = matplotlibcpp;",
      "metadata":{
        "trusted":true
      },
      "execution_count":4,
      "outputs":[

      ]
    },
    {
      "cell_type":"code",
      "source":"using namespace mlpack;",
      "metadata":{
        "trusted":true
      },
      "execution_count":5,
      "outputs":[

      ]
    },
    {
      "cell_type":"code",
      "source":"using namespace mlpack::pca;",
      "metadata":{
        "trusted":true
      },
      "execution_count":6,
      "outputs":[

      ]
    },
    {
      "cell_type":"code",
      "source":"using namespace mlpack::kmeans;",
      "metadata":{
        "trusted":true
      },
      "execution_count":7,
      "outputs":[

      ]
    },
    {
      "cell_type":"code",
      "source":"// The dataset is originally from the National Institute of Diabetes and\n// Digestive and Kidney Diseases and can be used to predict whether a\n// patient has diabetes based on certain diagnostic factors.\narma::mat input;\ndata::Load(\"pima-indians-diabetes.csv\", input);",
      "metadata":{
        "trusted":true
      },
      "execution_count":8,
      "outputs":[

      ]
    },
    {
      "cell_type":"code",
      "source":"// Print the first 10 rows of the input data.\nstd::cout << std::setw(18) << \"Pregnancies \"\n          << std::setw(10) << \"Glucose \"\n          << \"BloodPressure \"\n          << std::left << std::setw(18) << \"SkinThickness \"\n          << std::left << std::setw(15) << \"Insulin \"\n          << \"BMI \"\n          << \"DiabetesPedigreeFunction \"\n          << \"Age \"\n          << \"Outcome \" << std::endl;\n\nstd::cout << input.submat(0, 0, input.n_rows - 1 , 10).t() << std::endl;",
      "metadata":{
        "trusted":true
      },
      "execution_count":9,
      "outputs":[
        {
          "name":"stdout",
          "text":"      Pregnancies   Glucose BloodPressure SkinThickness     Insulin        BMI DiabetesPedigreeFunction Age Outcome \n   6.0000e+00   1.4800e+02   7.2000e+01   3.5000e+01            0   3.3600e+01   6.2700e-01   5.0000e+01   1.0000e+00\n   1.0000e+00   8.5000e+01   6.6000e+01   2.9000e+01            0   2.6600e+01   3.5100e-01   3.1000e+01            0\n   8.0000e+00   1.8300e+02   6.4000e+01            0            0   2.3300e+01   6.7200e-01   3.2000e+01   1.0000e+00\n   1.0000e+00   8.9000e+01   6.6000e+01   2.3000e+01   9.4000e+01   2.8100e+01   1.6700e-01   2.1000e+01            0\n            0   1.3700e+02   4.0000e+01   3.5000e+01   1.6800e+02   4.3100e+01   2.2880e+00   3.3000e+01   1.0000e+00\n   5.0000e+00   1.1600e+02   7.4000e+01            0            0   2.5600e+01   2.0100e-01   3.0000e+01            0\n   3.0000e+00   7.8000e+01   5.0000e+01   3.2000e+01   8.8000e+01   3.1000e+01   2.4800e-01   2.6000e+01   1.0000e+00\n   1.0000e+01   1.1500e+02            0            0            0   3.5300e+01   1.3400e-01   2.9000e+01            0\n   2.0000e+00   1.9700e+02   7.0000e+01   4.5000e+01   5.4300e+02   3.0500e+01   1.5800e-01   5.3000e+01   1.0000e+00\n   8.0000e+00   1.2500e+02   9.6000e+01            0            0            0   2.3200e-01   5.4000e+01   1.0000e+00\n   4.0000e+00   1.1000e+02   9.2000e+01            0            0   3.7600e+01   1.9100e-01   3.0000e+01            0\n\n",
          "output_type":"stream"
        }
      ]
    },
    {
      "cell_type":"code",
      "source":"// Split the labels last column.\narma::rowvec labels = input.row(input.n_rows - 1);\narma::mat dataset = input.rows(0, input.n_rows - 2);",
      "metadata":{
        "trusted":true
      },
      "execution_count":10,
      "outputs":[

      ]
    },
    {
      "cell_type":"code",
      "source":"// For the convenience of visualization, we take the first two principle components\n// as the new feature variables and conduct K-means only on these two dimensional data.\nPCA<> pca(true);\npca.Apply(dataset, 2);",
      "metadata":{
        "trusted":true
      },
      "execution_count":11,
      "outputs":[

      ]
    },
    {
      "cell_type":"code",
      "source":"// Print the first ten columns of the transformed input.\nstd::cout << dataset.cols(0, 10).t() << std::endl;",
      "metadata":{
        "trusted":true
      },
      "execution_count":12,
      "outputs":[
        {
          "name":"stdout",
          "text":"  -1.0683   1.2336\n   1.1212  -0.7328\n   0.3955   1.5955\n   1.1155  -1.2698\n  -2.3571  -2.1829\n   1.4345   0.8358\n   0.9299  -1.1068\n   2.1478   0.8566\n  -3.2957  -0.2424\n   1.8374   3.2053\n   0.5320   0.6473\n\n",
          "output_type":"stream"
        }
      ]
    },
    {
      "cell_type":"code",
      "source":"// Plot the transformed input.\n\n// Get the data to for the indices.\nstd::vector<double> x = arma::conv_to<std::vector<double>>::from(dataset.row(0));\nstd::vector<double> y = arma::conv_to<std::vector<double>>::from(dataset.row(1));\n\nplt::figure_size(800, 800);\nplt::scatter(x, y, 4);\n\nplt::xlabel(\"Principal Component - 1\");\nplt::ylabel(\"Principal Component - 2\");\nplt::title(\"Projection of Pima Indians Diabetes dataset onto first two principal components\");\n\nplt::save(\"./pca.png\");\nauto im = xw::image_from_file(\"pca.png\").finalize();\nim",
      "metadata":{
        "trusted":true
      },
      "execution_count":13,
      "outputs":[
        {
          "execution_count":13,
          "output_type":"execute_result",
          "data":{
            "application/vnd.jupyter.widget-view+json":{
              "model_id":"613e1afd7bb14c00a2b00dd21cd0f79b",
              "version_major":2,
              "version_minor":0
            },
            "text/plain":"A Jupyter widget"
          },
          "metadata":{

          }
        }
      ]
    },
    {
      "cell_type":"code",
      "source":"// Perform K-means clustering using the Euclidean distance.\n//\n// For more information checkout https://mlpack.org/doc/stable/doxygen/classmlpack_1_1kmeans_1_1KMeans.html\n// or uncomment the line below.\n// ?KMeans<>\n\n// The assignments will be stored in this vector.\narma::Row<size_t> assignments;\n\n// The centroids will be stored in this matrix.\narma::mat centroids;\n\n// The number of clusters we are getting.\nsize_t cluster = 13;\n\n// Number of optimization steps to perform.\nsize_t iterations = 30;\n\n// Generate data string to plot the data.\nstd::stringstream xData, yData, aData, cData;\nfor (size_t i = 0; i < dataset.n_cols; ++i)\n{\n    xData << dataset.col(i)(0) << \";\";\n    yData << dataset.col(i)(1) << \";\";\n}\n\n// Collect the assignments and centroids for each\n// optimization step. This is just done to plot the\n// optimization step, a user can avoid the lines\n// below and use:\n// KMeans<> kmeans;\n// kmeans.Cluster(dataset, cluster, assignments, centroids);\n// To discard the intermediate steps.\nfor (size_t i = 0; i < iterations; ++i)\n{\n    // Initialize with the default arguments.\n    KMeans<> kmeans;\n    // Set the number of optimization steps to one, just\n    // for the purpose of ploting the optimization process.\n    kmeans.MaxIterations() = 1;\n    \n    // Start with the given assignments and centroids if\n    // this is not the first step.\n    if (i == 0)\n        kmeans.Cluster(dataset, cluster, assignments, centroids);\n    else\n        kmeans.Cluster(dataset, cluster, assignments, centroids, true, true);\n    \n    // Create assignments string for plotting.\n    for (size_t j = 0; j < assignments.n_elem; ++j)\n        aData << assignments(j) << \";\";\n\n    // Create centroids string for plotting.\n    for (size_t j = 0; j < centroids.n_elem; ++j)\n        cData << centroids(j) << \";\";\n}",
      "metadata":{
        "trusted":true
      },
      "execution_count":14,
      "outputs":[

      ]
    },
    {
      "cell_type":"code",
      "source":"// Plot the K-means optimization steps.\nScatter(xData.str()  /* Dataset first feature. */,\n        yData.str()  /* Dataset second feature. */,\n        aData.str()  /* K-means assignments. */,\n        cData.str()  /* K-means centroids. */,\n        iterations,  /* Number of optimization steps. */\n        \"output.gif\" /* Output file. */);",
      "metadata":{
        "trusted":true
      },
      "execution_count":15,
      "outputs":[

      ]
    },
    {
      "cell_type":"code",
      "source":"auto im = xw::image_from_file(\"output.gif\").finalize();\nim",
      "metadata":{
        "trusted":true
      },
      "execution_count":16,
      "outputs":[
        {
          "execution_count":16,
          "output_type":"execute_result",
          "data":{
            "application/vnd.jupyter.widget-view+json":{
              "model_id":"de5c77fab5a248bea1cbb6edc0f1549f",
              "version_major":2,
              "version_minor":0
            },
            "text/plain":"A Jupyter widget"
          },
          "metadata":{

          }
        }
      ]
    },
    {
      "cell_type":"markdown",
      "source":"Scatter plot with different clusters in different colors. The black cross marks the centers of a cluster.",
      "metadata":{

      }
    }
  ]
}
