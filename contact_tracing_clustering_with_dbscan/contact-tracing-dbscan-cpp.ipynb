{
  "metadata":{
    "language_info":{
      "codemirror_mode":"text/x-c++src",
      "file_extension":".cpp",
      "mimetype":"text/x-c++src",
      "name":"c++",
      "version":"14"
    },
    "kernelspec":{
      "name":"xcpp14",
      "display_name":"C++14",
      "language":"C++14"
    }
  },
  "nbformat_minor":4,
  "nbformat":4,
  "cells":[
    {
      "cell_type":"markdown",
      "source":"[![Binder](https://mybinder.org/badge_logo.svg)](https://lab.mlpack.org/v2/gh/mlpack/examples/master?urlpath=lab%2Ftree%2Fcontact_tracing_clustering_with_dbscan%2F.ipynb)",
      "metadata":{

      }
    },
    {
      "cell_type":"code",
      "source":"/**\n * @file contact-tracing-dbscan-cpp.ipynb\n *\n * A simple contact tracing method using DBSCAN.\n * \n * Once a person is tested positive for the virus,\n * it is very important to identify others who may\n * have been infected by the diagnosed patients.\n * To identify the infected people, a process called\n * contact tracing is often used. In this example, we\n * applied DBSCAN to perform pseudo location-based\n * contact tracing using GPS.\n */",
      "metadata":{
        "trusted":true
      },
      "execution_count":1,
      "outputs":[

      ]
    },
    {
      "cell_type":"code",
      "source":"!wget -q https://lab.mlpack.org/data/contact-tracing.csv",
      "metadata":{
        "trusted":true
      },
      "execution_count":2,
      "outputs":[

      ]
    },
    {
      "cell_type":"code",
      "source":"#include <mlpack/xeus-cling.hpp>\n\n#include <mlpack/core.hpp>\n#include <mlpack/methods/dbscan/dbscan.hpp>\n\n#include <sstream>",
      "metadata":{
        "trusted":true
      },
      "execution_count":3,
      "outputs":[

      ]
    },
    {
      "cell_type":"code",
      "source":"// Header files to create and show the plot.\n#define WITHOUT_NUMPY 1\n#include \"matplotlibcpp.h\"\n#include \"xwidgets/ximage.hpp\"\n\n#include \"plot3d.hpp\"\n\nnamespace plt = matplotlibcpp;",
      "metadata":{
        "trusted":true
      },
      "execution_count":4,
      "outputs":[

      ]
    },
    {
      "cell_type":"code",
      "source":"using namespace mlpack;",
      "metadata":{
        "trusted":true
      },
      "execution_count":5,
      "outputs":[

      ]
    },
    {
      "cell_type":"code",
      "source":"using namespace mlpack::dbscan;",
      "metadata":{
        "trusted":true
      },
      "execution_count":6,
      "outputs":[

      ]
    },
    {
      "cell_type":"code",
      "source":"using namespace mlpack::data;",
      "metadata":{
        "trusted":true
      },
      "execution_count":7,
      "outputs":[

      ]
    },
    {
      "cell_type":"code",
      "source":"// Load the pseudo location-based dataset for the contact tracing.\n// The dataset has 4 columns: timestamp, latitude, longitude, id.\narma::mat input;\nDatasetInfo info;\ndata::Load(\"contact-tracing.csv\", input, info);",
      "metadata":{
        "trusted":true
      },
      "execution_count":8,
      "outputs":[

      ]
    },
    {
      "cell_type":"code",
      "source":"// Print the first ten columns of the input data.\nstd::cout << \"timestamp\\t\"\n          << \"latitude\\t\"\n          << \"longitude\\t\"\n          << \"id\\t\" << std::endl;\nstd::cout << input.cols(0, 10).t() << std::endl;",
      "metadata":{
        "trusted":true
      },
      "execution_count":9,
      "outputs":[
        {
          "name":"stdout",
          "text":"timestamp\tlatitude\tlongitude\tid\t\n   1.5934e+09   1.2880e+01   7.7785e+01            0\n   1.5934e+09   1.2993e+01   7.7597e+01            0\n   1.5934e+09   1.2976e+01   7.7464e+01            0\n   1.5934e+09   1.2975e+01   7.7615e+01            0\n   1.5934e+09   1.2998e+01   7.7706e+01            0\n   1.5934e+09   1.3021e+01   7.7511e+01            0\n   1.5934e+09   1.2993e+01   7.7647e+01            0\n   1.5934e+09   1.3032e+01   7.7568e+01            0\n   1.5934e+09   1.2940e+01   7.7641e+01            0\n   1.5934e+09   1.2910e+01   7.7649e+01            0\n   1.5934e+09   1.2984e+01   7.7455e+01            0\n\n",
          "output_type":"stream"
        }
      ]
    },
    {
      "cell_type":"code",
      "source":"// Helper function to generate the data for the 3D plot.\nvoid Data3DPlot(std::stringstream& xData,\n                std::stringstream& yData,\n                std::stringstream& time,\n                std::stringstream& label,\n                const std::vector<int>& filter)\n{\n    xData.clear();\n    yData.clear();\n    time.clear();\n    label.clear();\n    \n    for (size_t i = 0; i < info.NumMappings(3); ++i)\n    {\n        if (filter.size() != 0 &&\n            std::find(filter.begin(), filter.end(), i) == filter.end())\n            continue;\n\n        // Get the indices for the current label.\n        arma::mat dataset = input.cols(arma::find(input.row(3) == (double) i));\n\n        // Get the data for the indices.\n        std::vector<double> t = arma::conv_to<std::vector<double>>::from(dataset.row(0));\n        std::vector<double> x = arma::conv_to<std::vector<double>>::from(dataset.row(1));\n        std::vector<double> y = arma::conv_to<std::vector<double>>::from(dataset.row(2));\n\n        // Build the strings for the plot.\n        label << info.UnmapString(i, 3);\n        for (size_t j = 0; j < t.size(); ++j)\n        {\n            xData << x[j] << \";\";\n            yData << y[j] << \";\";\n            // Scale time to make the plot easier to read.\n            time << t[j] / 1000 << \";\";\n        }\n\n        // Prepare for the next row.\n        xData << \"\\n\";\n        yData << \"\\n\";\n        time << \"\\n\";\n        label << \"\\n\";\n    }\n}",
      "metadata":{
        "trusted":true
      },
      "execution_count":10,
      "outputs":[

      ]
    },
    {
      "cell_type":"code",
      "source":"// Plot ids with their latitudes and longitudes across the x-axis and y-axis respectively.\nstd::stringstream xData, yData, time, label;\n\nstd::vector<int> filter;\n// Uncomment the lines below to filter for id 0 and 3.\n// filter.push_back(0);\n// filter.push_back(3);\n\nData3DPlot(xData, yData, time, label, filter);\n\nPlot3D(xData.str(),\n       yData.str(),\n       time.str(),\n       label.str(),\n       \"x\",\n       \"y\",\n       \"time\",\n       2, // Mode: 0 = line, 1 = scatter, 2 = line + scatter.\n       \"output.png\",\n       10, // Plot width.\n       10); // Plot height.\n\nauto im = xw::image_from_file(\"output.png\").finalize();\nim",
      "metadata":{
        "trusted":true
      },
      "execution_count":11,
      "outputs":[
        {
          "execution_count":11,
          "output_type":"execute_result",
          "data":{
            "application/vnd.jupyter.widget-view+json":{
              "model_id":"a4c5959585284fe4a8782e5a346923d3",
              "version_major":2,
              "version_minor":0
            },
            "text/plain":"A Jupyter widget"
          },
          "metadata":{

          }
        }
      ]
    },
    {
      "cell_type":"markdown",
      "source":"Plotting all ids can be confusing, so it might be useful to only plot certain ids.\nSee the comment above to filter and plot certain ids.",
      "metadata":{

      }
    },
    {
      "cell_type":"code",
      "source":"// Generate clusters, and identify the infections by filtering the data in the clusters.\n\n// Radial distance of 6 feet in kilometers.\nconst double epsilon = 0.0018288;\n\n// Perform Density-Based Spatial Clustering of Applications with Noise\n// (DBSCAN).\n//\n// For more information checkout https://mlpack.org/doc/mlpack-git/doxygen/classmlpack_1_1dbscan_1_1DBSCAN.html\n// or uncomment the line below.\n// ?DBSCAN<>\nDBSCAN<> model(epsilon, 2 /* Minimum number of points for each cluster. */);\n\n// We only use the latitude and longitude attribute.\nconst arma::mat points = input.submat(\n    1, 0, input.n_rows - 2 , input.n_cols - 1);\n\n// Perform clustering using DBSCAN, an return the number of clusters. \narma::Row<size_t> assignments;\nconst size_t numCluster = model.Cluster(points, assignments);",
      "metadata":{
        "trusted":true
      },
      "execution_count":12,
      "outputs":[

      ]
    },
    {
      "cell_type":"code",
      "source":"// The model was able to generate 29 clusters, out of which cluster\n// 0 to cluster 29 represents data points with neighboring nodes.\nstd::cout << \"Number of clusters: \" << numCluster << std::endl;",
      "metadata":{
        "trusted":true
      },
      "execution_count":13,
      "outputs":[
        {
          "name":"stdout",
          "text":"Number of clusters: 29\n",
          "output_type":"stream"
        }
      ]
    },
    {
      "cell_type":"code",
      "source":"// Plot cluster with their latitudes and longitudes across the x-axis and y-axis respectively.\nplt::figure_size(800, 800);\n\nfor (size_t i = 0; i < numCluster; ++i)\n{\n    // Get the indices for the current label.\n    arma::mat dataset = input.cols(arma::find(assignments == i));\n    \n    // Get the data for the indices.\n    std::vector<double> x = arma::conv_to<std::vector<double>>::from(dataset.row(1));\n    std::vector<double> y = arma::conv_to<std::vector<double>>::from(dataset.row(2));\n    \n    // Set the label for the legend.\n    std::map<std::string, std::string> m;\n    m.insert(std::pair<std::string, std::string>(\"label\", std::to_string(i)));\n    \n    plt::scatter(x, y, 10, m);\n}\n\nplt::xlabel(\"X\");\nplt::ylabel(\"y\");\nplt::title(\"ids with their latitudes and longitudes\");\nplt::legend();\n\nplt::save(\"./plot.png\");\nauto im = xw::image_from_file(\"plot.png\").finalize();\nim",
      "metadata":{
        "trusted":true
      },
      "execution_count":14,
      "outputs":[
        {
          "execution_count":14,
          "output_type":"execute_result",
          "data":{
            "application/vnd.jupyter.widget-view+json":{
              "model_id":"da6f38eacb4e4c2dbfe53630412788e3",
              "version_major":2,
              "version_minor":0
            },
            "text/plain":"A Jupyter widget"
          },
          "metadata":{

          }
        }
      ]
    },
    {
      "cell_type":"code",
      "source":"// Check for people who had been in contact with the infected patient.\nvoid PrintInfected(const std::string& infected /* Infected id e.g. Judy. */,\n                   DatasetInfo& info /* The dataset info object to map between ids and names. */,\n                   const arma::Row<size_t>& assignments /* The generated cluster. */,\n                   const size_t numCluster /* The number of found cluster. */)\n{\n    // Get id from name.\n    double infectedId = info.MapString<double>(infected, 3);\n    \n    // Get infected clusters.\n    arma::Mat<size_t> assignmentsTemp = assignments;\n    arma::Mat<size_t> cluster = assignmentsTemp.cols(\n        arma::find(input.row(3) == infectedId));\n    \n    // Filter out noise cluster.\n    cluster = cluster.cols(arma::find(cluster <= numCluster));\n    \n    std::cout << \"Infected: \" << infected << std::endl;\n    \n    // Find all names that are in the same infected cluster.\n    for (size_t c = 0; c < cluster.n_elem; ++c)\n    {       \n        arma::mat infectedIdsFromCluster = input.cols(\n            arma::find(assignments == cluster(c)));\n\n        if (infectedIdsFromCluster.n_cols <= 0)\n            std::cout << \"No people in the same cluster.\" << std::endl;\n        else\n            std::cout << \"Maybe infected others in the cluster: \";\n        \n        for (size_t n = 0, g = 0; n < infectedIdsFromCluster.n_cols; ++n)\n        {\n            size_t id = infectedIdsFromCluster.col(n)(3);\n            \n            // Skip the name if it's the same as the infected person.\n            if (info.UnmapString(id, 3) == infected)\n                continue;\n\n            if (g == 0)\n                std::cout << info.UnmapString(id, 3);\n            else\n                std::cout << \",\" << info.UnmapString(id, 3);\n            \n            g++;\n        }\n        \n        std::cout << std::endl;\n    }\n}",
      "metadata":{
        "trusted":true
      },
      "execution_count":15,
      "outputs":[

      ]
    },
    {
      "cell_type":"code",
      "source":"// Check for the people who might be potentially infected from the patient.\nPrintInfected(\"Heidi\", info, assignments, numCluster)",
      "metadata":{
        "trusted":true
      },
      "execution_count":16,
      "outputs":[
        {
          "name":"stdout",
          "text":"Infected: Heidi\nMaybe infected others in the cluster: David\nMaybe infected others in the cluster: Judy\n",
          "output_type":"stream"
        }
      ]
    },
    {
      "cell_type":"code",
      "source":"// Plot the data for Carol, Frank and Grace, to check the contact over time.\nstd::vector<int> filterHeidiDavidJudy;\nfilterHeidiDavidJudy.push_back((int) info.MapString<double>(\"Heidi\", 3));\nfilterHeidiDavidJudy.push_back((int) info.MapString<double>(\"David\", 3));\nfilterHeidiDavidJudy.push_back((int) info.MapString<double>(\"Judy\", 3));\n\nstd::stringstream xData, yData, time, label;\nData3DPlot(xData, yData, time, label, filterHeidiDavidJudy);\n\nPlot3D(xData.str(),\n       yData.str(),\n       time.str(),\n       label.str(),\n       \"x\",\n       \"y\",\n       \"time\",\n       2, // Mode: 0 = line, 1 = scatter, 2 = line + scatter.\n       \"contact-heidi-david-judy.png\",\n       10, // Plot width.\n       10); // Plot height.\n\nauto im = xw::image_from_file(\"contact-heidi-david-judy.png\").finalize();\nim",
      "metadata":{
        "trusted":true
      },
      "execution_count":17,
      "outputs":[
        {
          "execution_count":17,
          "output_type":"execute_result",
          "data":{
            "application/vnd.jupyter.widget-view+json":{
              "model_id":"ff81173951134a5cae3e144c8f2f1db7",
              "version_major":2,
              "version_minor":0
            },
            "text/plain":"A Jupyter widget"
          },
          "metadata":{

          }
        }
      ]
    },
    {
      "cell_type":"code",
      "source":"// Check for the people who might be potentially infected from the patient.\nPrintInfected(\"Alice\", info, assignments, numCluster)",
      "metadata":{
        "trusted":true
      },
      "execution_count":18,
      "outputs":[
        {
          "name":"stdout",
          "text":"Infected: Alice\nMaybe infected others in the cluster: Judy\n",
          "output_type":"stream"
        }
      ]
    },
    {
      "cell_type":"code",
      "source":"// Plot the data for Alice and Judy, to check the contact over time.\nstd::vector<int> filterAliceJudy;\nfilterAliceJudy.push_back((int) info.MapString<double>(\"Alice\", 3));\nfilterAliceJudy.push_back((int) info.MapString<double>(\"Judy\", 3));\n\nstd::stringstream xData, yData, time, label;\nData3DPlot(xData, yData, time, label, filterAliceJudy);\n\nPlot3D(xData.str(),\n       yData.str(),\n       time.str(),\n       label.str(),\n       \"x\",\n       \"y\",\n       \"time\",\n       2, // Mode: 0 = line, 1 = scatter, 2 = line + scatter.\n       \"contact-alice-judy.png\",\n       10, // Plot width.\n       10); // Plot height.\n\nauto im = xw::image_from_file(\"contact-alice-judy.png\").finalize();\nim",
      "metadata":{
        "trusted":true
      },
      "execution_count":19,
      "outputs":[
        {
          "execution_count":19,
          "output_type":"execute_result",
          "data":{
            "application/vnd.jupyter.widget-view+json":{
              "model_id":"0bd5d117ab6047448610db1d87ef207f",
              "version_major":2,
              "version_minor":0
            },
            "text/plain":"A Jupyter widget"
          },
          "metadata":{

          }
        }
      ]
    },
    {
      "cell_type":"code",
      "source":"// Check for the people who might be potentially infected from the patient.\nPrintInfected(\"David\", info, assignments, numCluster)",
      "metadata":{
        "trusted":true
      },
      "execution_count":20,
      "outputs":[
        {
          "name":"stdout",
          "text":"Infected: David\nMaybe infected others in the cluster: Heidi\n",
          "output_type":"stream"
        }
      ]
    },
    {
      "cell_type":"code",
      "source":"// Check for the people who might be potentially infected from the patient.\nPrintInfected(\"Judy\", info, assignments, numCluster)",
      "metadata":{
        "trusted":true
      },
      "execution_count":21,
      "outputs":[
        {
          "name":"stdout",
          "text":"Infected: Judy\nMaybe infected others in the cluster: Heidi\nMaybe infected others in the cluster: Alice\n",
          "output_type":"stream"
        }
      ]
    },
    {
      "cell_type":"code",
      "source":"// Check for the people who might be potentially infected from the patient.\nPrintInfected(\"Carol\", info, assignments, numCluster)",
      "metadata":{
        "trusted":true
      },
      "execution_count":22,
      "outputs":[
        {
          "name":"stdout",
          "text":"Infected: Carol\nMaybe infected others in the cluster: Frank,Grace\n",
          "output_type":"stream"
        }
      ]
    }
  ]
}
