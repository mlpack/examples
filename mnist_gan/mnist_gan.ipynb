{
 "cells": [
  {
   "cell_type": "code",
   "execution_count": 1,
   "source": [
    "#include <mlpack/xeus-cling.hpp>\n",
    "#include <mlpack/core.hpp>\n",
    "\n",
    "#include <mlpack/core/data/split_data.hpp>\n",
    "#include <mlpack/core/data/save.hpp>\n",
    "\n",
    "\n",
    "#include <mlpack/methods/ann/init_rules/gaussian_init.hpp>\n",
    "#include <mlpack/methods/ann/loss_functions/sigmoid_cross_entropy_error.hpp>\n",
    "#include <mlpack/methods/ann/gan/gan.hpp>\n",
    "#include <mlpack/methods/ann/layer/layer.hpp>\n",
    "#include <mlpack/methods/softmax_regression/softmax_regression.hpp>\n",
    "\n",
    "#include \"xwidgets/ximage.hpp\"\n",
    "#include <ensmallen.hpp>\n",
    "\n",
    "#include \"gan_utils.hpp\""
   ],
   "outputs": [],
   "metadata": {}
  },
  {
   "cell_type": "code",
   "execution_count": 2,
   "source": [
    "using namespace mlpack;"
   ],
   "outputs": [],
   "metadata": {}
  },
  {
   "cell_type": "code",
   "execution_count": 3,
   "source": [
    "using namespace mlpack::ann;"
   ],
   "outputs": [],
   "metadata": {}
  },
  {
   "cell_type": "code",
   "execution_count": 4,
   "source": [
    "  size_t dNumKernels = 32;\n",
    "  size_t discriminatorPreTrain = 5;\n",
    "  size_t batchSize = 5;\n",
    "  size_t noiseDim = 100;\n",
    "  size_t generatorUpdateStep = 1;\n",
    "  size_t numSamples = 10;\n",
    "  double stepSize = 0.0003;\n",
    "  double eps = 1e-8;\n",
    "  size_t numEpoches = 1;\n",
    "  double tolerance = 1e-5;\n",
    "  int datasetMaxCols = 10;\n",
    "  bool shuffle = true;\n",
    "  double multiplier = 10;\n",
    "  bool loadData = false;"
   ],
   "outputs": [],
   "metadata": {}
  },
  {
   "cell_type": "code",
   "execution_count": 5,
   "source": [
    "arma::mat inputData, trainData, validData;"
   ],
   "outputs": [],
   "metadata": {}
  },
  {
   "cell_type": "code",
   "execution_count": 6,
   "source": [
    "    trainData.load(\"./mnist_first250_training_4s_and_9s.arm\");\n",
    "\n",
    "//     if(loadData)\n",
    "//     {\n",
    "//         data::Load(\" \", inputData, true, false);\n",
    "//         // Removing the headers\n",
    "//         inputData = inputData.submat(0, 1, inputData.n_rows - 1, inputData.n_cols - 1);\n",
    "//         inputData /= 255.0;\n",
    "\n",
    "//         // Removing the labels\n",
    "//         inputData = inputData.submat(1, 0, inputData.n_rows - 1, inputData.n_cols - 1);\n",
    "\n",
    "//         inputData = (inputData - 0.5) * 2;\n",
    "\n",
    "//         data::Split(inputData, trainData, validData, 0.8);\n",
    "//     }\n"
   ],
   "outputs": [
    {
     "output_type": "execute_result",
     "data": {
      "text/plain": [
       "true"
      ]
     },
     "metadata": {},
     "execution_count": 6
    }
   ],
   "metadata": {}
  },
  {
   "cell_type": "code",
   "execution_count": 7,
   "source": [
    "  arma::arma_rng::set_seed_random();"
   ],
   "outputs": [],
   "metadata": {}
  },
  {
   "cell_type": "code",
   "execution_count": null,
   "source": [
    "std::function<double ()> noiseFunction = [](){ return math::Random(-8, 8) +\n",
    "    math::RandNormal(0, 1) * 0.01;};\n",
    "\n"
   ],
   "outputs": [
    {
     "output_type": "stream",
     "name": "stderr",
     "text": [
      "In file included from input_line_5:1:\n",
      "In file included from /home/viole/anaconda3/envs/notebook/include/xeus/xinterpreter.hpp:13:\n",
      "In file included from /home/viole/anaconda3/envs/notebook/bin/../lib/gcc/x86_64-conda-linux-gnu/7.5.0/../../../../x86_64-conda-linux-gnu/include/c++/7.5.0/functional:58:\n",
      "\u001b[1m/home/viole/anaconda3/envs/notebook/bin/../lib/gcc/x86_64-conda-linux-gnu/7.5.0/../../../../x86_64-conda-linux-gnu/include/c++/7.5.0/bits/std_function.h:264:34: \u001b[0m\u001b[0;1;31merror: \u001b[0m\u001b[1mno matching constructor for initialization of '(lambda at input_line_17:2:43)'\u001b[0m\n",
      "        { ::new (__functor._M_access()) _Functor(std::move(__f)); }\n",
      "\u001b[0;1;32m                                        ^        ~~~~~~~~~~~~~~\n",
      "\u001b[0m\u001b[1m/home/viole/anaconda3/envs/notebook/bin/../lib/gcc/x86_64-conda-linux-gnu/7.5.0/../../../../x86_64-conda-linux-gnu/include/c++/7.5.0/bits/std_function.h:239:4: \u001b[0m\u001b[0;1;30mnote: \u001b[0min instantiation of member function 'std::_Function_base::_Base_manager<(lambda at input_line_17:2:43)>::_M_init_functor' requested here\u001b[0m\n",
      "        { _M_init_functor(__functor, std::move(__f), _Local_storage()); }\n",
      "\u001b[0;1;32m          ^\n",
      "\u001b[0m\u001b[1m/home/viole/anaconda3/envs/notebook/bin/../lib/gcc/x86_64-conda-linux-gnu/7.5.0/../../../../x86_64-conda-linux-gnu/include/c++/7.5.0/bits/std_function.h:693:19: \u001b[0m\u001b[0;1;30mnote: \u001b[0min instantiation of member function"
     ]
    }
   ],
   "metadata": {}
  },
  {
   "cell_type": "code",
   "execution_count": null,
   "source": [],
   "outputs": [],
   "metadata": {}
  }
 ],
 "metadata": {
  "kernelspec": {
   "display_name": "C++14",
   "language": "C++14",
   "name": "xcpp14"
  },
  "language_info": {
   "codemirror_mode": "text/x-c++src",
   "file_extension": ".cpp",
   "mimetype": "text/x-c++src",
   "name": "c++",
   "version": "14"
  }
 },
 "nbformat": 4,
 "nbformat_minor": 5
}