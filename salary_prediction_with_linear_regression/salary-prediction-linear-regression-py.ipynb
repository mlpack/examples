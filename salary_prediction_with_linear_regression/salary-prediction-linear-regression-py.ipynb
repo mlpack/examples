{
 "cells": [
  {
   "cell_type": "markdown",
   "id": "technical-identification",
   "metadata": {},
   "source": [
    "## Predicting Salary using Linear Regression\n",
    "\n",
    "### Objective\n",
    "* We have to predict the salary of an employee given how many years of experience they have.\n",
    "\n",
    "### Dataset\n",
    "* Salary_Data.csv has 2 columns — “Years of Experience” and “Salary” for 30 employees in a company\n",
    "\n",
    "### Approach\n",
    "* So in this example, we will train a Linear Regression model to learn the correlation between the number of years of experience of each employee and their respective salary. \n",
    "* Once the model is trained, we will be able to do some sample predictions."
   ]
  },
  {
   "cell_type": "code",
   "execution_count": 1,
   "id": "449a2f52",
   "metadata": {},
   "outputs": [],
   "source": [
    "# Import Libraries.\n",
    "\n",
    "import mlpack\n",
    "import numpy as np\n",
    "import pandas as pd\n",
    "import seaborn as sns\n",
    "import matplotlib.pyplot as plt"
   ]
  },
  {
   "cell_type": "code",
   "execution_count": 2,
   "id": "786e154b",
   "metadata": {},
   "outputs": [],
   "source": [
    "%matplotlib inline\n",
    "# Uncomment below line to enable dark background style sheet.\n",
    "# plt.style.use('dark_background')"
   ]
  },
  {
   "cell_type": "code",
   "execution_count": 3,
   "id": "9c7de4da",
   "metadata": {},
   "outputs": [],
   "source": [
    "# Load the salary dataset.\n",
    "data = pd.read_csv(\"https://datasets.mlpack.org/Salary_Data.csv\")"
   ]
  },
  {
   "cell_type": "code",
   "execution_count": 4,
   "id": "1d59786b",
   "metadata": {},
   "outputs": [
    {
     "data": {
      "text/html": [
       "<div>\n",
       "<style scoped>\n",
       "    .dataframe tbody tr th:only-of-type {\n",
       "        vertical-align: middle;\n",
       "    }\n",
       "\n",
       "    .dataframe tbody tr th {\n",
       "        vertical-align: top;\n",
       "    }\n",
       "\n",
       "    .dataframe thead th {\n",
       "        text-align: right;\n",
       "    }\n",
       "</style>\n",
       "<table border=\"1\" class=\"dataframe\">\n",
       "  <thead>\n",
       "    <tr style=\"text-align: right;\">\n",
       "      <th></th>\n",
       "      <th>YearsExperience</th>\n",
       "      <th>Salary</th>\n",
       "    </tr>\n",
       "  </thead>\n",
       "  <tbody>\n",
       "    <tr>\n",
       "      <th>0</th>\n",
       "      <td>1.1</td>\n",
       "      <td>39343.0</td>\n",
       "    </tr>\n",
       "    <tr>\n",
       "      <th>1</th>\n",
       "      <td>1.3</td>\n",
       "      <td>46205.0</td>\n",
       "    </tr>\n",
       "    <tr>\n",
       "      <th>2</th>\n",
       "      <td>1.5</td>\n",
       "      <td>37731.0</td>\n",
       "    </tr>\n",
       "    <tr>\n",
       "      <th>3</th>\n",
       "      <td>2.0</td>\n",
       "      <td>43525.0</td>\n",
       "    </tr>\n",
       "    <tr>\n",
       "      <th>4</th>\n",
       "      <td>2.2</td>\n",
       "      <td>39891.0</td>\n",
       "    </tr>\n",
       "  </tbody>\n",
       "</table>\n",
       "</div>"
      ],
      "text/plain": [
       "   YearsExperience   Salary\n",
       "0              1.1  39343.0\n",
       "1              1.3  46205.0\n",
       "2              1.5  37731.0\n",
       "3              2.0  43525.0\n",
       "4              2.2  39891.0"
      ]
     },
     "execution_count": 4,
     "metadata": {},
     "output_type": "execute_result"
    }
   ],
   "source": [
    "# Display the first 5 samples from dataframe.\n",
    "data.head()"
   ]
  },
  {
   "cell_type": "code",
   "execution_count": 5,
   "id": "5a3a26af",
   "metadata": {},
   "outputs": [
    {
     "data": {
      "text/html": [
       "<div>\n",
       "<style scoped>\n",
       "    .dataframe tbody tr th:only-of-type {\n",
       "        vertical-align: middle;\n",
       "    }\n",
       "\n",
       "    .dataframe tbody tr th {\n",
       "        vertical-align: top;\n",
       "    }\n",
       "\n",
       "    .dataframe thead th {\n",
       "        text-align: right;\n",
       "    }\n",
       "</style>\n",
       "<table border=\"1\" class=\"dataframe\">\n",
       "  <thead>\n",
       "    <tr style=\"text-align: right;\">\n",
       "      <th></th>\n",
       "      <th>YearsExperience</th>\n",
       "      <th>Salary</th>\n",
       "    </tr>\n",
       "  </thead>\n",
       "  <tbody>\n",
       "    <tr>\n",
       "      <th>count</th>\n",
       "      <td>30.000000</td>\n",
       "      <td>30.000000</td>\n",
       "    </tr>\n",
       "    <tr>\n",
       "      <th>mean</th>\n",
       "      <td>5.313333</td>\n",
       "      <td>76003.000000</td>\n",
       "    </tr>\n",
       "    <tr>\n",
       "      <th>std</th>\n",
       "      <td>2.837888</td>\n",
       "      <td>27414.429785</td>\n",
       "    </tr>\n",
       "    <tr>\n",
       "      <th>min</th>\n",
       "      <td>1.100000</td>\n",
       "      <td>37731.000000</td>\n",
       "    </tr>\n",
       "    <tr>\n",
       "      <th>25%</th>\n",
       "      <td>3.200000</td>\n",
       "      <td>56720.750000</td>\n",
       "    </tr>\n",
       "    <tr>\n",
       "      <th>50%</th>\n",
       "      <td>4.700000</td>\n",
       "      <td>65237.000000</td>\n",
       "    </tr>\n",
       "    <tr>\n",
       "      <th>75%</th>\n",
       "      <td>7.700000</td>\n",
       "      <td>100544.750000</td>\n",
       "    </tr>\n",
       "    <tr>\n",
       "      <th>max</th>\n",
       "      <td>10.500000</td>\n",
       "      <td>122391.000000</td>\n",
       "    </tr>\n",
       "  </tbody>\n",
       "</table>\n",
       "</div>"
      ],
      "text/plain": [
       "       YearsExperience         Salary\n",
       "count        30.000000      30.000000\n",
       "mean          5.313333   76003.000000\n",
       "std           2.837888   27414.429785\n",
       "min           1.100000   37731.000000\n",
       "25%           3.200000   56720.750000\n",
       "50%           4.700000   65237.000000\n",
       "75%           7.700000  100544.750000\n",
       "max          10.500000  122391.000000"
      ]
     },
     "execution_count": 5,
     "metadata": {},
     "output_type": "execute_result"
    }
   ],
   "source": [
    "# Generates basic statistical summary of the dataframe.\n",
    "data.describe()"
   ]
  },
  {
   "cell_type": "code",
   "execution_count": 6,
   "id": "8d8410cd",
   "metadata": {},
   "outputs": [
    {
     "name": "stdout",
     "output_type": "stream",
     "text": [
      "<class 'pandas.core.frame.DataFrame'>\n",
      "RangeIndex: 30 entries, 0 to 29\n",
      "Data columns (total 2 columns):\n",
      " #   Column           Non-Null Count  Dtype  \n",
      "---  ------           --------------  -----  \n",
      " 0   YearsExperience  30 non-null     float64\n",
      " 1   Salary           30 non-null     float64\n",
      "dtypes: float64(2)\n",
      "memory usage: 608.0 bytes\n"
     ]
    }
   ],
   "source": [
    "# Generates a concise summary of the dataframe.\n",
    "data.info()"
   ]
  },
  {
   "cell_type": "markdown",
   "id": "78f2eea6",
   "metadata": {},
   "source": [
    "### Exploratory Data Analysis"
   ]
  },
  {
   "cell_type": "code",
   "execution_count": 8,
   "id": "ef71b4dc",
   "metadata": {},
   "outputs": [
    {
     "data": {
      "image/png": "[encoded data removed]",
      "text/plain": [
       "<Figure size 432x288 with 1 Axes>"
      ]
     },
     "metadata": {
      "needs_background": "light"
     },
     "output_type": "display_data"
    }
   ],
   "source": [
    "# Scatter plot of Experience vs Salary.\n",
    "data.plot(x=\"YearsExperience\", y=\"Salary\",\n",
    "          kind=\"scatter\", title=\"Experience vs Salary\")\n",
    "plt.xlabel(\"Years of Experience\")\n",
    "plt.show()"
   ]
  },
  {
   "cell_type": "markdown",
   "id": "739be4d1-2a46-49f1-9bc5-b07d598cbe28",
   "metadata": {},
   "source": [
    "### Train Test Split\n",
    "The dataset has to be split into a training set and a test set.\n",
    "This can be done using the `preprocess_split()` api from mlpack.\n",
    "Here the dataset has 30 observations and the `testRatio` is taken as 40% of the total observations.\n",
    "This indicates the test set should have 40% * 30 = 12 observations and training test should have 18 observations respectively."
   ]
  },
  {
   "cell_type": "code",
   "execution_count": 9,
   "id": "2cd31a2a",
   "metadata": {},
   "outputs": [],
   "source": [
    "# Split data into features (X) and targets (y).\n",
    "\n",
    "targets = data.Salary\n",
    "features = data.drop(\"Salary\", axis=1)"
   ]
  },
  {
   "cell_type": "code",
   "execution_count": 10,
   "id": "9e82b675",
   "metadata": {},
   "outputs": [],
   "source": [
    "# Split the dataset using mlpack's preprocess_split method.\n",
    "splitData = mlpack.preprocess_split(input=features, input_labels=targets, test_ratio=0.4, seed=101)"
   ]
  },
  {
   "cell_type": "markdown",
   "id": "91e0b6b8",
   "metadata": {},
   "source": [
    "### Training the linear model\n",
    "\n",
    "Regression analysis is the most widely used method of prediction. Linear regression is used when the dataset has a linear correlation and as the name suggests, simple linear regression has one independent variable (predictor) and one dependent variable(response).\n",
    "\n",
    "The simple linear regression equation is represented as y = a+bx where x is the explanatory variable, y is the dependent variable, b is coefficient and a is the intercept\n",
    "\n",
    "To perform linear regression we'll be using `LinearRegression()` api from mlpack."
   ]
  },
  {
   "cell_type": "code",
   "execution_count": 11,
   "id": "5a642645",
   "metadata": {},
   "outputs": [],
   "source": [
    "# Create and train Linear Regression model.\n",
    "output = mlpack.linear_regression(training=splitData[\"training\"],\n",
    "                                  training_responses=splitData[\"training_labels\"], \n",
    "                                  lambda_=0.5, verbose=True)"
   ]
  },
  {
   "cell_type": "code",
   "execution_count": 12,
   "id": "8b2e2bb4",
   "metadata": {},
   "outputs": [],
   "source": [
    "model = output[\"output_model\"]"
   ]
  },
  {
   "cell_type": "markdown",
   "id": "bf6ce883",
   "metadata": {},
   "source": [
    "### Making Predictions on Test set"
   ]
  },
  {
   "cell_type": "code",
   "execution_count": 13,
   "id": "e41657ad",
   "metadata": {},
   "outputs": [],
   "source": [
    "# Predict the values of the test data.\n",
    "predictions = mlpack.linear_regression(input_model=model, test=splitData[\"test\"])"
   ]
  },
  {
   "cell_type": "code",
   "execution_count": 14,
   "id": "d3734f1a",
   "metadata": {},
   "outputs": [],
   "source": [
    "yPreds = predictions[\"output_predictions\"].reshape(-1, 1)"
   ]
  },
  {
   "cell_type": "markdown",
   "id": "53843549",
   "metadata": {},
   "source": [
    "### Model Evaluation\n",
    "Test data is visualized with `splitData[\"test\"]` and `yPreds`, the coral points indicates the data points and the blue line indicates the regression line or best fit line."
   ]
  },
  {
   "cell_type": "code",
   "execution_count": 22,
   "id": "531b842d",
   "metadata": {},
   "outputs": [
    {
     "data": {
      "image/png": "[encoded data removed]",
      "text/plain": [
       "<Figure size 432x288 with 1 Axes>"
      ]
     },
     "metadata": {
      "needs_background": "light"
     },
     "output_type": "display_data"
    }
   ],
   "source": [
    "# Plot the linear model.\n",
    "plt.scatter(splitData[\"test\"], splitData[\"test_labels\"])\n",
    "plt.xlabel(\"Years of Experience\")\n",
    "plt.ylabel(\"Salary in $\")\n",
    "plt.title(\"Experience vs Salary (Predictions)\")\n",
    "plt.plot(splitData[\"test\"], yPreds)\n",
    "plt.legend([\"Linear Model\"])\n",
    "plt.show()"
   ]
  },
  {
   "cell_type": "markdown",
   "id": "twenty-qualification",
   "metadata": {},
   "source": [
    "## Evaluation Metrics for Regression model\n",
    "\n",
    "In the Previous cell we have visualized our model performance by plotting the best fit line. Now we will use various evaluation metrics to understand how well our model has performed.\n",
    "\n",
    "* Mean Absolute Error (MAE) is the sum of absolute differences between actual and predicted values, without considering the direction.\n",
    "$$ MAE = \\frac{\\sum_{i=1}^n\\lvert y_{i} - \\hat{y_{i}}\\rvert} {n} $$\n",
    "* Mean Squared Error (MSE) is calculated as the mean or average of the squared differences between predicted and expected target values in a dataset, a lower value is better\n",
    "$$ MSE = \\frac {1}{n} \\sum_{i=1}^n (y_{i} - \\hat{y_{i}})^2 $$\n",
    "* Root Mean Squared Error (RMSE), Square root of MSE yields root mean square error (RMSE) it indicates the spread of the residual errors. It is always positive, and a lower value indicates better performance.\n",
    "$$ RMSE = \\sqrt{\\frac {1}{n} \\sum_{i=1}^n (y_{i} - \\hat{y_{i}})^2} $$"
   ]
  },
  {
   "cell_type": "code",
   "execution_count": 23,
   "id": "c26ee546",
   "metadata": {},
   "outputs": [],
   "source": [
    "# Utility functions for evaulation metrics.\n",
    "\n",
    "def mae(y_true, y_preds):\n",
    "    return np.mean(np.abs(y_preds - y_true))\n",
    "\n",
    "def mse(y_true, y_preds):\n",
    "    return np.mean(np.power(y_preds - y_true, 2))"
   ]
  },
  {
   "cell_type": "code",
   "execution_count": 39,
   "id": "8ad80db1",
   "metadata": {},
   "outputs": [
    {
     "name": "stdout",
     "output_type": "stream",
     "text": [
      "---- Evaluation Metrics ----\n",
      "Mean Absoulte Error: 4136.06\n",
      "Mean Squared Error: 24922668.74\n",
      "Root Mean Squared Error: 4992.26\n"
     ]
    }
   ],
   "source": [
    "print(\"---- Evaluation Metrics ----\")\n",
    "print(f\"Mean Absoulte Error: {mae(splitData['test_labels'], yPreds):.2f}\")\n",
    "print(f\"Mean Squared Error: {mse(splitData['test_labels'], yPreds):.2f}\")\n",
    "print(f\"Root Mean Squared Error: {np.sqrt(mse(splitData['test_labels'], yPreds)):.2f}\")"
   ]
  },
  {
   "cell_type": "markdown",
   "id": "9f0899be-5069-432a-a3d3-b5c7f33c8417",
   "metadata": {},
   "source": [
    "From the above metrics, we can notice that our model MAE is ~4K, which is relatively small compared to our average salary of $76003, from this we can conclude our model is a reasonably good fit."
   ]
  }
 ],
 "metadata": {
  "kernelspec": {
   "display_name": "Python 3",
   "language": "python",
   "name": "python3"
  },
  "language_info": {
   "codemirror_mode": {
    "name": "ipython",
    "version": 3
   },
   "file_extension": ".py",
   "mimetype": "text/x-python",
   "name": "python",
   "nbconvert_exporter": "python",
   "pygments_lexer": "ipython3",
   "version": "3.7.8"
  }
 },
 "nbformat": 4,
 "nbformat_minor": 5
}
