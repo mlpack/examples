{
  "metadata":{
    "language_info":{
      "codemirror_mode":"text/x-c++src",
      "file_extension":".cpp",
      "mimetype":"text/x-c++src",
      "name":"c++",
      "version":"14"
    },
    "kernelspec":{
      "name":"xcpp14",
      "display_name":"C++14",
      "language":"C++14"
    }
  },
  "nbformat_minor":4,
  "nbformat":4,
  "cells":[
    {
      "cell_type":"markdown",
      "source":"[![Binder](https://mybinder.org/badge_logo.svg)](https://lab.mlpack.org/v2/gh/mlpack/examples/master?urlpath=lab%2Ftree%2Fmovie_lens_prediction_with_cf%2Fmovie-lens-cf-cpp.ipynb)",
      "metadata":{

      }
    },
    {
      "cell_type":"code",
      "source":"/**\n * @file movie-lens-cf-cpp.ipynb\n *\n * A simple example usage of Collaborative Filtering (CF)\n * applied to the MovieLens dataset.\n * \n * https://grouplens.org/datasets/movielens/\n */",
      "metadata":{
        "trusted":true
      },
      "execution_count":1,
      "outputs":[

      ]
    },
    {
      "cell_type":"code",
      "source":"!rm -rf ml-latest-small && wget -q -O tmp.zip https://lab.mlpack.org/data/MovieLens-small.zip && unzip tmp.zip && rm tmp.zip",
      "metadata":{
        "trusted":true
      },
      "execution_count":2,
      "outputs":[
        {
          "name":"stdout",
          "text":"Archive:  tmp.zip\n   creating: ml-latest-small/\n  inflating: ml-latest-small/links.csv  \n  inflating: ml-latest-small/tags.csv  \n  inflating: ml-latest-small/ratings.csv  \n  inflating: ml-latest-small/README.txt  \n  inflating: ml-latest-small/movies.csv  \n",
          "output_type":"stream"
        }
      ]
    },
    {
      "cell_type":"code",
      "source":"#include <mlpack/xeus-cling.hpp>\n\n#include <mlpack/core.hpp>\n#include <mlpack/core/data/split_data.hpp>\n\n#include <mlpack/methods/cf/decomposition_policies/regularized_svd_method.hpp>\n#include <mlpack/methods/cf/cf.hpp>\n\n#include <fstream>",
      "metadata":{
        "trusted":true
      },
      "execution_count":3,
      "outputs":[

      ]
    },
    {
      "cell_type":"code",
      "source":"// Header files to create and show the plot.\n#define WITHOUT_NUMPY 1\n#include \"matplotlibcpp.h\"\n#include \"xwidgets/ximage.hpp\"\n#include \"wordcloud.hpp\"\n\nnamespace plt = matplotlibcpp;",
      "metadata":{
        "trusted":true
      },
      "execution_count":4,
      "outputs":[

      ]
    },
    {
      "cell_type":"code",
      "source":"using namespace mlpack;",
      "metadata":{
        "trusted":true
      },
      "execution_count":5,
      "outputs":[

      ]
    },
    {
      "cell_type":"code",
      "source":"using namespace mlpack::cf;",
      "metadata":{
        "trusted":true
      },
      "execution_count":6,
      "outputs":[

      ]
    },
    {
      "cell_type":"code",
      "source":"/**\n * The MovieLens dataset contains a set of movie ratings from the MovieLens website,\n * a movie recommendation service. This dataset was collected and maintained by\n * GroupLens, a research group at the University of Minnesota.\n *\n * There are 5 versions included: \"25m\", \"latest-small\", \"100k\", \"1m\", \"20m\".\n *\n * In this example, we are working on the \"latest-small\" dataset,\n * which is a small subset of the latest version of the MovieLens dataset.\n * It is changed and updated over time by GroupLens.\n *\n * The dataset has 100,000 ratings and 3,600 tag applications applied\n * to 9,000 movies by 600 users.\n */\n\n// Load ratings file.\narma::mat ratings;\ndata::Load(\"ml-latest-small/ratings.csv\", ratings);\n// Ignore the timestamp column and the header.\nratings = ratings.submat(0, 1, ratings.n_rows - 2, ratings.n_cols - 1);\n\n// Load movies file.\nstd::vector<size_t> moviesId;\nstd::vector<std::string> moviesTitle;\nstd::vector<std::string> moviesGenres;\n\nstd::ifstream moviesFile(\"ml-latest-small/movies.csv\");\nstd::string line;\nsize_t lineNum = 0;\nwhile (getline(moviesFile, line))\n{\n    std::stringstream linestream(line);\n    std::string value;\n    \n    size_t valueNum = 0;\n    while (getline(linestream, value, ','))\n    {\n        if (lineNum > 0 && valueNum == 0)\n            moviesId.push_back(std::stoi(value));\n        else if (lineNum > 0 && valueNum == 1)\n            moviesTitle.push_back(value);\n        else if (lineNum > 0 && valueNum == 2)\n            moviesGenres.push_back(value);\n        \n        valueNum++;\n    }\n    \n    lineNum++;\n}",
      "metadata":{
        "trusted":true
      },
      "execution_count":7,
      "outputs":[

      ]
    },
    {
      "cell_type":"code",
      "source":"// Print the first 10 rows of the ratings data.\nstd::cout << \"   userId       movieId      rating\\n\";\nratings.cols(0, 9).t().print()",
      "metadata":{
        "trusted":true
      },
      "execution_count":8,
      "outputs":[
        {
          "name":"stdout",
          "text":"   userId       movieId      rating\n   1.0000e+00   1.0000e+00   4.0000e+00\n   1.0000e+00   3.0000e+00   4.0000e+00\n   1.0000e+00   6.0000e+00   4.0000e+00\n   1.0000e+00   4.7000e+01   5.0000e+00\n   1.0000e+00   5.0000e+01   5.0000e+00\n   1.0000e+00   7.0000e+01   3.0000e+00\n   1.0000e+00   1.0100e+02   5.0000e+00\n   1.0000e+00   1.1000e+02   4.0000e+00\n   1.0000e+00   1.5100e+02   5.0000e+00\n   1.0000e+00   1.5700e+02   5.0000e+00\n",
          "output_type":"stream"
        }
      ]
    },
    {
      "cell_type":"markdown",
      "source":"We can see that user 1 has rated the movie with the id 1, 3 and 6 with a rating of 4.0;\nrated the movies with the id's 47, 50, 101, 151 and 157 with a 5.0 and rated the movie\nwith the id 70 with 3.0.",
      "metadata":{

      }
    },
    {
      "cell_type":"code",
      "source":"// Print the first 10 rows of the movies data.\nstd::cout << std::left << std::setw(10) << \"id\" << std::setw(40) << \"title\" << \"genres\" << std::endl;\nfor (size_t i = 0; i < 10; ++i)\n{\n    std::cout << std::left << std::setw(10)\n              << moviesId[i]\n              << std::setw(40)\n              << moviesTitle[i]\n              << moviesGenres[i] << std::endl;\n}",
      "metadata":{
        "trusted":true
      },
      "execution_count":9,
      "outputs":[
        {
          "name":"stdout",
          "text":"id        title                                   genres\n1         Toy Story (1995)                        Adventure|Animation|Children|Comedy|Fantasy\n2         Jumanji (1995)                          Adventure|Children|Fantasy\n3         Grumpier Old Men (1995)                 Comedy|Romance\n4         Waiting to Exhale (1995)                Comedy|Drama|Romance\n5         Father of the Bride Part II (1995)      Comedy\n6         Heat (1995)                             Action|Crime|Thriller\n7         Sabrina (1995)                          Comedy|Romance\n8         Tom and Huck (1995)                     Adventure|Children\n9         Sudden Death (1995)                     Action\n10        GoldenEye (1995)                        Action|Adventure|Thriller\n",
          "output_type":"stream"
        }
      ]
    },
    {
      "cell_type":"markdown",
      "source":"This dataset contains attributes of the 9700 movies.\nThere are 3 columns including the movie ID, their titles, and their genres.\nGenres are separated and selected from 18 genres (Action, Adventure, Animation,\nChildren's, Comedy, Crime, Documentary, Drama, Fantasy, Film-Noir, Horror,\nMusical, Mystery, Romance, Sci-Fi, Thriller, War, Western).",
      "metadata":{

      }
    },
    {
      "cell_type":"code",
      "source":"// Create a wordcloud of the movie titles.\nstd::string moveTitleCloudString = \"\";\nfor (size_t s = 0; s < moviesTitle.size(); ++s)\n    moveTitleCloudString += moviesTitle[s] + \";\";\n\nWordCloud(moveTitleCloudString, \"movie-title-word-cloud.png\", 400, 1000);\nauto im = xw::image_from_file(\"movie-title-word-cloud.png\").finalize();\nim",
      "metadata":{
        "trusted":true
      },
      "execution_count":10,
      "outputs":[
        {
          "execution_count":10,
          "output_type":"execute_result",
          "data":{
            "application/vnd.jupyter.widget-view+json":{
              "model_id":"db2accbe09e54276afddc8930a679afb",
              "version_major":2,
              "version_minor":0
            },
            "text/plain":"A Jupyter widget"
          },
          "metadata":{

          }
        }
      ]
    },
    {
      "cell_type":"markdown",
      "source":"The, Man, Love, Dead, Day are among the most commonly occuring words in movie titles.",
      "metadata":{

      }
    },
    {
      "cell_type":"code",
      "source":"// Create a wordcloud of the movie genres.\nstd::string movieGenresCloudString = \"\";\nfor (size_t g = 0; g < moviesGenres.size(); ++g)\n    movieGenresCloudString += moviesGenres[g] + \";\";\n\n// Replace all '|' to ', since that's\n// what the WordCloud method uses as delimiter.\nstd::replace(movieGenresCloudString.begin(),\n             movieGenresCloudString.end(), '|', ';');\n\nWordCloud(movieGenresCloudString, \"movie-genres-word-cloud.png\", 400, 1000);\nauto im = xw::image_from_file(\"movie-genres-word-cloud.png\").finalize();\nim",
      "metadata":{
        "trusted":true
      },
      "execution_count":11,
      "outputs":[
        {
          "execution_count":11,
          "output_type":"execute_result",
          "data":{
            "application/vnd.jupyter.widget-view+json":{
              "model_id":"985140b9dba744ea85362c2f3008e900",
              "version_major":2,
              "version_minor":0
            },
            "text/plain":"A Jupyter widget"
          },
          "metadata":{

          }
        }
      ]
    },
    {
      "cell_type":"markdown",
      "source":"Drama, Comedy and Action are among the most commonly occuring movie genres.",
      "metadata":{

      }
    },
    {
      "cell_type":"code",
      "source":"// Get summary statistics of the ratings.\nstd::cout << std::setw(10) << \"count\" << ratings.n_cols << std::endl;\nstd::cout << std::setw(10) << \"mean\" << arma::mean(ratings.row(2)) << std::endl;\nstd::cout << std::setw(10) << \"std\" << arma::stddev(ratings.row(2)) << std::endl;\nstd::cout << std::setw(10) << \"min\" << arma::min(ratings.row(2)) << std::endl;\nstd::cout << std::setw(10) << \"max\" << arma::max(ratings.row(2)) << std::endl;\nstd::cout << std::setw(10) << \"range\" << arma::range(ratings.row(2)) << std::endl;",
      "metadata":{
        "trusted":true
      },
      "execution_count":12,
      "outputs":[
        {
          "name":"stdout",
          "text":"count     100836\nmean      3.50156\nstd       1.04253\nmin       0.5\nmax       5\nrange     4.5\n",
          "output_type":"stream"
        }
      ]
    },
    {
      "cell_type":"code",
      "source":"// Plot ratings histogram.\nstd::vector<double> hist = arma::conv_to<std::vector<double>>::from(ratings.row(2).t());\n\nplt::figure_size(400, 400);\nplt::xlabel(\"ratings\");\nplt::hist(hist);\n\nplt::save(\"./hist.png\");\nauto im = xw::image_from_file(\"hist.png\").finalize();\nim",
      "metadata":{
        "trusted":true
      },
      "execution_count":13,
      "outputs":[
        {
          "execution_count":13,
          "output_type":"execute_result",
          "data":{
            "application/vnd.jupyter.widget-view+json":{
              "model_id":"5cd7e72fafe0488593f9ed923ae73c24",
              "version_major":2,
              "version_minor":0
            },
            "text/plain":"A Jupyter widget"
          },
          "metadata":{

          }
        }
      ]
    },
    {
      "cell_type":"markdown",
      "source":"The mean rating is 3.5 on a scale of 5. Half the movies have a rating of 3 and 4.",
      "metadata":{

      }
    },
    {
      "cell_type":"code",
      "source":"// Hold out 10% of the dataset into a test set so we can evaluate performance.\narma::mat ratingsTrain, ratingsTest;\ndata::Split(ratings, ratingsTrain, ratingsTest, 0.1);",
      "metadata":{
        "trusted":true
      },
      "execution_count":14,
      "outputs":[

      ]
    },
    {
      "cell_type":"code",
      "source":"// Train the model. Change the rank to increase/decrease the complexity\n// of the model.\n//\n// For more information checkout https://www.mlpack.org/doc/stable/python_documentation.html#cf\n// or uncomment the line below.\n// ?CF\n\n// Note: batch size is 1 in our implementation of Regularized SVD.\n// A batch size other than 1 has not been supported yet.\nCFType<cf::RegSVDPolicy> cfModel(ratingsTrain);",
      "metadata":{
        "trusted":true
      },
      "execution_count":15,
      "outputs":[
        {
          "name":"stdout",
          "text":"\u001b[0;33m[WARN ] \u001b[0mThe batch size for optimizing RegularizedSVD is 1.\n",
          "output_type":"stream"
        }
      ]
    },
    {
      "cell_type":"code",
      "source":"// Now query the 10 top movies for user 2.\narma::Mat<size_t> recommendations;\ncfModel.GetRecommendations(10, recommendations, {2});",
      "metadata":{
        "trusted":true
      },
      "execution_count":16,
      "outputs":[

      ]
    },
    {
      "cell_type":"code",
      "source":"// Get the names of the movies for user 2.\nstd::cout << \"Recommendations for user 2:\" << std::endl;\nfor (size_t i = 0; i < recommendations.n_elem; ++i)\n{\n    std::vector<size_t>::iterator it = std::find(moviesId.begin(),\n        moviesId.end(), (size_t)recommendations[i]);\n    size_t index = std::distance(moviesId.begin(), it);\n\n    std::cout << \"  \" << i << \":  \" << moviesTitle[index] << std::endl;\n}",
      "metadata":{
        "trusted":true
      },
      "execution_count":17,
      "outputs":[
        {
          "name":"stdout",
          "text":"Recommendations for user 2:\n  0:  Bent (1997)\n  1:  Play Time (a.k.a. Playtime) (1967)\n  2:  Dylan Moran: Monster (2004)\n  3:  \"Mist\n  4:  Seve (2014)\n  5:  Freeway (1996)\n  6:  Damien: Omen II (1978)\n  7:  Twin Dragons (Shuang long hui) (1992)\n  8:  Pickpocket (1959)\n  9:  Saving Face (2004)\n",
          "output_type":"stream"
        }
      ]
    },
    {
      "cell_type":"code",
      "source":"// Print the movie ratings for user 2 from the dataset.\nstd::cout << \"Ratings for user 2:\" << std::endl;\nfor (size_t i = 0, r = 0; i < ratings.n_cols; ++i)\n{\n    if ((size_t)ratings.col(i)(0) == 2)\n    {\n        std::vector<size_t>::iterator it = std::find(moviesId.begin(),\n            moviesId.end(), (size_t)ratings.col(i)(1));\n        size_t index = std::distance(moviesId.begin(), it);\n\n        std::cout << \"  \" << r++ << \":  \"\n                  << std::fixed << std::setprecision(1)\n                  << ratings.col(i)(2)\n                  << \"  - \" << moviesTitle[index] << std::endl;\n    }\n}",
      "metadata":{
        "trusted":true
      },
      "execution_count":18,
      "outputs":[
        {
          "name":"stdout",
          "text":"Ratings for user 2:\n  0:  3.0  - \"Shawshank Redemption\n  1:  4.0  - Tommy Boy (1995)\n  2:  4.5  - Good Will Hunting (1997)\n  3:  4.0  - Gladiator (2000)\n  4:  4.0  - Kill Bill: Vol. 1 (2003)\n  5:  3.5  - Collateral (2004)\n  6:  4.0  - Talladega Nights: The Ballad of Ricky Bobby (2006)\n  7:  4.0  - \"Departed\n  8:  4.5  - \"Dark Knight\n  9:  5.0  - Step Brothers (2008)\n  10:  4.5  - Inglourious Basterds (2009)\n  11:  3.0  - Zombieland (2009)\n  12:  4.0  - Shutter Island (2010)\n  13:  3.0  - Exit Through the Gift Shop (2010)\n  14:  4.0  - Inception (2010)\n  15:  4.5  - \"Town\n  16:  5.0  - Inside Job (2010)\n  17:  4.0  - Louis C.K.: Hilarious (2010)\n  18:  5.0  - Warrior (2011)\n  19:  3.5  - \"Dark Knight Rises\n  20:  2.5  - \"Girl with the Dragon Tattoo\n  21:  3.5  - Django Unchained (2012)\n  22:  5.0  - \"Wolf of Wall Street\n  23:  3.0  - Interstellar (2014)\n  24:  4.0  - Whiplash (2014)\n  25:  2.0  - The Drop (2014)\n  26:  3.5  - Ex Machina (2015)\n  27:  5.0  - Mad Max: Fury Road (2015)\n  28:  5.0  - The Jinx: The Life and Deaths of Robert Durst (2015)\n",
          "output_type":"stream"
        }
      ]
    },
    {
      "cell_type":"markdown",
      "source":"Here is some example output, showing that user 2 seems to have an interesting taste in movies.",
      "metadata":{

      }
    }
  ]
}
