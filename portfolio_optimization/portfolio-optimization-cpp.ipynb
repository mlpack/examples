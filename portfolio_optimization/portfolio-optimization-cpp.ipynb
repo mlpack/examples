{
 "cells": [
  {
   "cell_type": "code",
   "execution_count": null,
   "metadata": {},
   "outputs": [],
   "source": [
    "/**\n",
    " * @file portfolio-optimization-moead-cpp.ipynb\n",
    " *\n",
    " * A simple practical application of MultiObjective Decomposition Evolutionary Algorithm\n",
    " * - Differential Variant (MOEA/D-DE) in portfolio optimization. This example allows user to freely choose \n",
    " * multiple stocks of their choice, which upon request, generates csv automagically \n",
    " * via a helper function.\n",
    " *\n",
    " * The algorithm will try and optimize the trade-off between the returns and\n",
    " * volatility of the requested stocks.\n",
    " *\n",
    " * Data from Pandas Datareader library (https://pandas-datareader.readthedocs.io/en/latest/).\n",
    " */"
   ]
  },
  {
   "cell_type": "code",
   "execution_count": null,
   "metadata": {},
   "outputs": [],
   "source": [
    "#include <mlpack/xeus-cling.hpp>\n",
    "\n",
    "#include <ensmallen.hpp>\n",
    "#include \"../utils/portfolio.hpp\"\n",
    "#include \"../utils/front.hpp\"\n",
    "#include <ctime>"
   ]
  },
  {
   "cell_type": "code",
   "execution_count": null,
   "metadata": {},
   "outputs": [],
   "source": [
    "// Header files to create and show the plot.\n",
    "#define WITHOUT_NUMPY 1\n",
    "#include \"matplotlibcpp.h\"\n",
    "#include \"xwidgets/ximage.hpp\"\n",
    "\n",
    "namespace plt = matplotlibcpp;"
   ]
  },
  {
   "cell_type": "code",
   "execution_count": null,
   "metadata": {},
   "outputs": [],
   "source": [
    "using namespace ens;"
   ]
  },
  {
   "cell_type": "code",
   "execution_count": null,
   "metadata": {},
   "outputs": [],
   "source": [
    "using namespace ens::test;"
   ]
  },
  {
   "cell_type": "markdown",
   "metadata": {},
   "source": [
    "Download backup data"
   ]
  },
  {
   "cell_type": "code",
   "execution_count": null,
   "metadata": {},
   "outputs": [],
   "source": [
    "!wget http://lab.mlpack.org/data/portfolio.csv"
   ]
  },
  {
   "cell_type": "markdown",
   "metadata": {},
   "source": [
    "### 1. Set the Model Parameters"
   ]
  },
  {
   "cell_type": "markdown",
   "metadata": {},
   "source": [
    "In this section, we will select the parameters for the optimizer. Parameters include name of the stocks, starting date, ending date and Finance API Source."
   ]
  },
  {
   "cell_type": "code",
   "execution_count": null,
   "metadata": {},
   "outputs": [],
   "source": [
    "//! Declare user specified data.\n",
    "std::string stocks, startDate, endDate, dataSource;"
   ]
  },
  {
   "cell_type": "code",
   "execution_count": null,
   "metadata": {},
   "outputs": [],
   "source": [
    "stocks = \"AAPL,NKE,GOOGL,AMZN\";\n",
    "\n",
    "//! Uncomment to set custom stocks.\n",
    "// std::cout << \"Type the name of symbol of the stocks via comma separated values (no spaces)\" << std::endl;\n",
    "// std::cin >> stocks;"
   ]
  },
  {
   "cell_type": "markdown",
   "metadata": {},
   "source": [
    "We're setting the data source to Yahoo Finance API by default. For custom data-source, refer pandas-datareader documentation to get the exhaustive list of available API sources."
   ]
  },
  {
   "cell_type": "code",
   "execution_count": null,
   "metadata": {},
   "outputs": [],
   "source": [
    "dataSource = \"yahoo\";\n",
    "\n",
    "//! Uncomment to set custom data-source.\n",
    "//std::cin >> dataSource;"
   ]
  },
  {
   "cell_type": "code",
   "execution_count": null,
   "metadata": {},
   "outputs": [],
   "source": [
    "startDate = \"03/08/2018\";\n",
    "\n",
    "//! Uncomment to set custom start-date.\n",
    "// std::cout << \"Starting Date (YYYY/MM/DD or DD/MM/YYYY)\" << std::endl;\n",
    "// std::cin >> startDate;"
   ]
  },
  {
   "cell_type": "markdown",
   "metadata": {},
   "source": [
    "Get the current date."
   ]
  },
  {
   "cell_type": "code",
   "execution_count": null,
   "metadata": {},
   "outputs": [],
   "source": [
    "time_t current_time;\n",
    "struct tm *timeinfo;\n",
    "time(&current_time);\n",
    "\n",
    "timeinfo = localtime(&current_time);"
   ]
  },
  {
   "cell_type": "code",
   "execution_count": null,
   "metadata": {},
   "outputs": [],
   "source": [
    "size_t day = timeinfo->tm_mday;\n",
    "size_t month = timeinfo->tm_mon + 1;\n",
    "size_t year = timeinfo->tm_year + 1900"
   ]
  },
  {
   "cell_type": "code",
   "execution_count": null,
   "metadata": {},
   "outputs": [],
   "source": [
    "std::stringstream dateToday;\n",
    "dateToday << day << \"/\" << month << \"/\" << year;\n",
    "\n",
    "endDate = dateToday.str();\n",
    "\n",
    "//! Uncomment to set custom end-date.\n",
    "// std::cout << \"End Date (YYYY/MM/DD or DD/MM/YYYY)\" << std::endl;\n",
    "// std::cin >> endDate;"
   ]
  },
  {
   "cell_type": "code",
   "execution_count": null,
   "metadata": {},
   "outputs": [],
   "source": [
    "//! Uncomment to generate the csv file.\n",
    "//! if(Portfolio(stocks, dataSource, startDate, endDate,\"portfolio.csv\"))\n",
    "//!    std::cout << \"Data query failed! Using backup csv.\" << std::endl;"
   ]
  },
  {
   "cell_type": "markdown",
   "metadata": {},
   "source": [
    "### 2. Loading the Dataset"
   ]
  },
  {
   "cell_type": "markdown",
   "metadata": {},
   "source": [
    "In this section, we will create a helper class which will generate the CSV file for us based on the parameters provided in previous section. This class would also define the objective functions in question, namely: Return and Volatility. Ideally, we would want to maximize the returns and reduce the volatility. Since our implementation of algorithm works on minimization of all objectives, we have appended negative sign to the returns objective which converts it into a minimization problem."
   ]
  },
  {
   "cell_type": "code",
   "execution_count": null,
   "metadata": {},
   "outputs": [],
   "source": [
    "class PortfolioFunction\n",
    "{\n",
    "  public:\n",
    "    PortfolioFunction(const std::string& stocks,\n",
    "                      const std::string& dataSource,\n",
    "                      const std::string& startDate,\n",
    "                      const std::string& endDate)\n",
    "    {\n",
    "      returns.load(\"portfolio.csv\", arma::csv_ascii);\n",
    "      returns.shed_col(0);\n",
    "\n",
    "      assets = returns.n_cols;\n",
    "    }\n",
    "\n",
    "    //! Get the starting point.\n",
    "    arma::mat GetInitialPoint()\n",
    "    {\n",
    "      return arma::Col<double>(assets, 1, arma::fill::zeros);\n",
    "    }\n",
    "    \n",
    "    struct VolatilityObjective\n",
    "    {\n",
    "        VolatilityObjective(arma::mat&& cov) : cov(cov) {}\n",
    "\n",
    "        double Evaluate(const arma::mat& coords)\n",
    "        {\n",
    "          const double portfolioVolatility = arma::as_scalar(arma::sqrt(\n",
    "                coords.t() * cov * 252 * coords));\n",
    "          return portfolioVolatility;\n",
    "        }\n",
    "\n",
    "        arma::mat cov;\n",
    "    };\n",
    "\n",
    "    struct ReturnsObjective\n",
    "    {\n",
    "        ReturnsObjective(arma::mat&& mean) : mean(mean) {}\n",
    "\n",
    "        double Evaluate(const arma::mat& coords)\n",
    "        {\n",
    "          const double portfolioReturns = arma::accu(mean % coords.t()) * 252;\n",
    "          \n",
    "          //! Negative sign appended to convert to minimization problem.\n",
    "          return -portfolioReturns;\n",
    "        }\n",
    "\n",
    "        arma::mat mean;\n",
    "    };\n",
    "\n",
    "\n",
    "    //! Get objective functions.\n",
    "    std::tuple<VolatilityObjective, ReturnsObjective> GetObjectives()\n",
    "    {\n",
    "      return std::make_tuple(VolatilityObjective(arma::cov(returns)), \n",
    "                             ReturnsObjective(arma::mean(returns)));\n",
    "    }\n",
    "\n",
    "    arma::mat returns;\n",
    "    size_t assets;\n",
    "};\n",
    "\n",
    "\n",
    "//! The constructor will generate the csv file.\n",
    "PortfolioFunction pf(stocks, dataSource, startDate, endDate);\n",
    "\n",
    "const double lowerBound = 0;\n",
    "const double upperBound = 1;\n",
    "\n",
    "DefaultMOEAD moead(150, // Population size.\n",
    "                   30,  // Max generations.\n",
    "                   1.0,  // Crossover probability.\n",
    "                   0.9, // Probability of sampling from neighbor.\n",
    "                   20, // Neighborhood size.\n",
    "                   20, // Perturbation index.\n",
    "                   0.5, // Differential weight.\n",
    "                   2, // Max childrens to replace parents.\n",
    "                   1E-10, // epsilon.\n",
    "                   lowerBound, // Lower bound.\n",
    "                   upperBound // Upper bound.\n",
    "                 );\n",
    "\n",
    "NSGA2 nsga2(150, // population size: The number of candidates in the population.\n",
    "            30, // max generations: The maximum number of generations allowed.\n",
    "            0.5, // crossover probability: The probability that the elites reproduce.\n",
    "            0.5, // mutation  probability: The probability of mutation among the elite.\n",
    "            1e-3, // mutation strength: The strength of the mutation.\n",
    "            1e-6, // epsilon: The minimum difference required to distinguish between two solutions.\n",
    "            lowerBound, // lowerBound: Lower bound of the coordinates of the initial population\n",
    "            upperBound // upperBound: Upper bound of the coordinates of the initial population\n",
    "            );\n",
    "\n",
    "arma::mat nsga2Coords = pf.GetInitialPoint();\n",
    "arma::mat moeadCoords(nsga2Coords);\n",
    "auto objectives = pf.GetObjectives();"
   ]
  },
  {
   "cell_type": "markdown",
   "metadata": {},
   "source": [
    "### 3. Optimization "
   ]
  },
  {
   "cell_type": "markdown",
   "metadata": {},
   "source": [
    "There are plethora of algorithms to solve this family of problems often known as Multi Objective Problem (MOP). Multi Objective Evolutionary Algorithms (MOEA) are a set of algorithms which employs the concept of evolution to optimize these kind of problems. Notably, two algorithms are often used for this task:\n",
    "\n",
    "a) NSGA-II: Non Dominated Sorting Algorithm - II.\n",
    "\n",
    "b) MOEA/D-DE: Multi-Objective Evolutionary Algorithm via Decompostion - Differential Variant."
   ]
  },
  {
   "cell_type": "markdown",
   "metadata": {},
   "source": [
    "#### a) NSGA-II\n",
    "\n",
    "NSGA-II is a classic go-to algorithm for MOPs. Each member of the population is assigned a fitness value and segragated into various fronts based on their fitness. This segragation mechanism is done using \"Non Dominated Sorting\" principle. It uses dominance relation to sort the population into various fronts and members ranked accordingly. The best Front is the one with the lowest rank."
   ]
  },
  {
   "cell_type": "markdown",
   "metadata": {},
   "source": [
    "#### b) MOEA/D - DE\n",
    "\n",
    "MOEA/D-DE utilizes the concept of decomposition to tackle MOP. Unlike traditional algorithms like NSGA-II, it doens't rely on dominance relation. Instead, a set of \"Reference Directions\" are instantiated to frame it into a scalar optimization problem. The fitness value is assigned to the members in accordance to their performance in this framed optimization function. With the aid of Genetic Operators, offsprings replace the parent solutions if its fitness is superior.\n",
    "\n",
    "MOEAD offers a plethora of Decomposition Functions and Reference Direction generators via templates. For our case, we've used the trusty ```DefaultMOEAD```. Read the class documentation for other options."
   ]
  },
  {
   "cell_type": "markdown",
   "metadata": {},
   "source": [
    "We would like to track the optimization process over the generations. For that let's create a container to store the current Pareto Front."
   ]
  },
  {
   "cell_type": "code",
   "execution_count": null,
   "metadata": {},
   "outputs": [],
   "source": [
    "std::vector<arma::cube> nsga2Fronts{};\n",
    "std::vector<arma::cube> moeadFronts{};"
   ]
  },
  {
   "cell_type": "markdown",
   "metadata": {},
   "source": [
    "This data structure would then be passed on to the \"QueryFront\" Callback which will track the evolution for us."
   ]
  },
  {
   "cell_type": "markdown",
   "metadata": {},
   "source": [
    "Begin Optimization! (This will take a fair amount of time)."
   ]
  },
  {
   "cell_type": "code",
   "execution_count": null,
   "metadata": {},
   "outputs": [],
   "source": [
    "nsga2.Optimize(objectives, nsga2Coords, QueryFront(2, nsga2Fronts));"
   ]
  },
  {
   "cell_type": "code",
   "execution_count": null,
   "metadata": {},
   "outputs": [],
   "source": [
    "moead.Optimize(objectives, moeadCoords, QueryFront(2, moeadFronts));"
   ]
  },
  {
   "cell_type": "markdown",
   "metadata": {},
   "source": [
    "Let's create an array to store the X and Y coordinates of all the Pareto Fronts."
   ]
  },
  {
   "cell_type": "code",
   "execution_count": null,
   "metadata": {},
   "outputs": [],
   "source": [
    "std::stringstream nsga2FrontsX, nsga2FrontsY, moeadFrontsX, moeadFrontsY;"
   ]
  },
  {
   "cell_type": "markdown",
   "metadata": {},
   "source": [
    "Convert to neccessary data structure."
   ]
  },
  {
   "cell_type": "code",
   "execution_count": null,
   "metadata": {},
   "outputs": [],
   "source": [
    "void FillFront(std::stringstream& frontX,\n",
    "               std::stringstream& frontY,\n",
    "               std::vector<arma::cube>& frontList)\n",
    "{\n",
    "    size_t numFronts = frontList.size();\n",
    "    \n",
    "    for (size_t frontIdx = 0; frontIdx < numFronts; ++frontIdx)\n",
    "    {\n",
    "        size_t numPoints = frontList[frontIdx].n_slices;\n",
    "        const arma::cube& front = frontList[frontIdx];\n",
    "        for (size_t pointIdx = 0; pointIdx < numPoints; ++pointIdx)\n",
    "        {\n",
    "            if (pointIdx == numPoints - 1)\n",
    "            {\n",
    "                 frontX << front.slice(pointIdx)(0);\n",
    "                 frontY << -front.slice(pointIdx)(1);\n",
    "            }\n",
    "            else\n",
    "            {\n",
    "                frontX << front.slice(pointIdx)(0) << \",\";\n",
    "                // Append negative again to restore the original \n",
    "                // maximization objective.\n",
    "                frontY << -front.slice(pointIdx)(1) << \",\";\n",
    "            }\n",
    "        }\n",
    "    \n",
    "        if (frontIdx == numFronts - 1) break;  \n",
    "        \n",
    "        frontX << \";\";\n",
    "        frontY << \";\";   \n",
    "    }\n",
    "}"
   ]
  },
  {
   "cell_type": "code",
   "execution_count": null,
   "metadata": {},
   "outputs": [],
   "source": [
    "FillFront(nsga2FrontsX, nsga2FrontsY, nsga2Fronts);\n",
    "FillFront(moeadFrontsX, moeadFrontsY, moeadFronts);"
   ]
  },
  {
   "cell_type": "markdown",
   "metadata": {},
   "source": [
    "### 4.  Plotting"
   ]
  },
  {
   "cell_type": "markdown",
   "metadata": {},
   "source": [
    "As said before, we desire higher returns and lower volatility. The Pareto Front generated gives an optimal set of solutions such that, higher volatility is traded-off with higher returns and vice-versa. Hence, all the solutions are \"optimal\". Based on user's preference, he/she can choose their solution from the generated front.\n",
    "\n",
    "The Axis Labels are as follows:\n",
    "\n",
    "X-Axis: Volatility\n",
    "\n",
    "Y-Axis: Returns\n",
    "\n",
    "We expect an increase in volatility with increase in returns."
   ]
  },
  {
   "cell_type": "code",
   "execution_count": null,
   "metadata": {},
   "outputs": [],
   "source": [
    "//! A util to plot the evolution process gif.\n",
    "Front(nsga2FrontsX.str(), nsga2FrontsY.str(), moeadFrontsX.str(), moeadFrontsY.str());\n",
    "\n",
    "auto im = xw::image_from_file(\"fronts.gif\").finalize();\n",
    "im"
   ]
  },
  {
   "cell_type": "markdown",
   "metadata": {},
   "source": [
    "### 5. Final Thoughts"
   ]
  },
  {
   "cell_type": "markdown",
   "metadata": {},
   "source": [
    "In this notebook, we've seen how a MultiObjective Optimization algorithm can help in investing in stocks. We specified our stocks and witnessed our algorithm optimize the returns vs volatility trade-off in action. From the evolution process depicted above, it can be deduced that:\n",
    "\n",
    "a) The Pareto Front of MOEA/D-DE is uniformly distributed along the search space and continuous in nature. Whereas NSGA-II's Front is disconnected and the highly crowded in select areas.\n",
    "\n",
    "b) The Pareto Front of MOEA/D-DE covers a larger expanse of the objective space compared to NSGA-II.\n",
    "\n",
    "c) In terms of speed, MOEA/D-DE is much faster compared to NSGA-II.\n",
    "\n",
    "Feel free to play around by selecting various stocks, start-date, end-date and see how the outcomes plays off. "
   ]
  }
 ],
 "metadata": {
  "kernelspec": {
   "display_name": "C++14",
   "language": "C++14",
   "name": "xcpp14"
  },
  "language_info": {
   "codemirror_mode": "text/x-c++src",
   "file_extension": ".cpp",
   "mimetype": "text/x-c++src",
   "name": "c++",
   "version": "14"
  }
 },
 "nbformat": 4,
 "nbformat_minor": 5
}
