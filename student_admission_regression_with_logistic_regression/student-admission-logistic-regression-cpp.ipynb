{
 "cells": [
  {
   "cell_type": "markdown",
   "metadata": {},
   "source": [
    "[![Binder](https://mybinder.org/badge_logo.svg)](https://lab.mlpack.org/v2/gh/mlpack/examples/master?urlpath=lab%2Ftree%2Fstudent_admission_regression_with_logistic_regression%2Fstudent-admission-logistic-regression-cpp.ipynb)"
   ]
  },
  {
   "cell_type": "code",
   "execution_count": 1,
   "metadata": {},
   "outputs": [],
   "source": [
    "/**\n",
    " * @file student-admission-logistic-regression-cpp.ipynb\n",
    " *\n",
    " * A simple example usage of Logistic Regression (LR)\n",
    " * applied to the Student Admission dataset.\n",
    " *\n",
    " * We will use a Logistic-Regression model to predict whether a student\n",
    " * gets admitted into a university (i.e, the output classes are Yes or No),\n",
    " * based on their results on past exams.\n",
    " *\n",
    " * Data from Andrew Ng's Stanford University Machine Learning Course (Coursera).\n",
    " */"
   ]
  },
  {
   "cell_type": "code",
   "execution_count": 2,
   "metadata": {},
   "outputs": [],
   "source": [
    "!wget -q https://lab.mlpack.org/data/student-admission.txt"
   ]
  },
  {
   "cell_type": "code",
   "execution_count": 3,
   "metadata": {},
   "outputs": [],
   "source": [
    "#include <mlpack/xeus-cling.hpp>\n",
    "\n",
    "#include <mlpack/core.hpp>\n",
    "#include <mlpack/methods/logistic_regression/logistic_regression.hpp>"
   ]
  },
  {
   "cell_type": "code",
   "execution_count": 4,
   "metadata": {},
   "outputs": [],
   "source": [
    "// Header files to create and show the plot.\n",
    "#define WITHOUT_NUMPY 1\n",
    "#include \"matplotlibcpp.h\"\n",
    "#include \"xwidgets/ximage.hpp\"\n",
    "\n",
    "namespace plt = matplotlibcpp;"
   ]
  },
  {
   "cell_type": "code",
   "execution_count": 5,
   "metadata": {},
   "outputs": [],
   "source": [
    "using namespace mlpack;"
   ]
  },
  {
   "cell_type": "code",
   "execution_count": 6,
   "metadata": {},
   "outputs": [],
   "source": [
    "using namespace mlpack::regression;"
   ]
  },
  {
   "cell_type": "code",
   "execution_count": 7,
   "metadata": {},
   "outputs": [],
   "source": [
    "// Read the input data.\n",
    "arma::mat input;\n",
    "data::Load(\"student-admission.txt\", input);"
   ]
  },
  {
   "cell_type": "code",
   "execution_count": 8,
   "metadata": {},
   "outputs": [
    {
     "name": "stdout",
     "output_type": "stream",
     "text": [
      "   34.6237   78.0247         0\n",
      "   30.2867   43.8950         0\n",
      "   35.8474   72.9022         0\n",
      "   60.1826   86.3086    1.0000\n",
      "   79.0327   75.3444    1.0000\n",
      "   45.0833   56.3164         0\n",
      "   61.1067   96.5114    1.0000\n",
      "   75.0247   46.5540    1.0000\n",
      "   76.0988   87.4206    1.0000\n",
      "   84.4328   43.5334    1.0000\n",
      "   95.8616   38.2253         0\n",
      "\n"
     ]
    }
   ],
   "source": [
    "// Print the first 10 rows of the input data.\n",
    "std::cout << input.submat(0, 0, input.n_rows - 1 , 10).t() << std::endl;"
   ]
  },
  {
   "cell_type": "markdown",
   "metadata": {},
   "source": [
    "Historical data from previous students: each student has two exams scores associated and the final admission result (1.0=yes, 0.0=no)."
   ]
  },
  {
   "cell_type": "code",
   "execution_count": 9,
   "metadata": {},
   "outputs": [
    {
     "data": {
      "application/vnd.jupyter.widget-view+json": {
       "model_id": "54466081d1d04875824c960df742de13",
       "version_major": 2,
       "version_minor": 0
      },
      "text/plain": [
       "A Jupyter widget with unique id: 54466081d1d04875824c960df742de13"
      ]
     },
     "execution_count": 9,
     "metadata": {},
     "output_type": "execute_result"
    }
   ],
   "source": [
    "// Plot the input data.\n",
    "\n",
    "// Get the indices for the labels  0.0 (not admitted).\n",
    "arma::mat dataset0 = input.cols(arma::find(input.row(2) == 0));\n",
    "\n",
    "// Get the data to for the indices.\n",
    "std::vector<double> x0 = arma::conv_to<std::vector<double>>::from(dataset0.row(0));\n",
    "std::vector<double> y0 = arma::conv_to<std::vector<double>>::from(dataset0.row(1));\n",
    "\n",
    "// Get the indices for the label 1.0 (admitted).\n",
    "arma::mat dataset1 = input.cols(arma::find(input.row(2) == 1.0));\n",
    "\n",
    "// Get the data to for the indices.\n",
    "std::vector<double> x1 = arma::conv_to<std::vector<double>>::from(dataset1.row(0));\n",
    "std::vector<double> y1 = arma::conv_to<std::vector<double>>::from(dataset1.row(1));\n",
    "\n",
    "plt::figure_size(800, 800);\n",
    "\n",
    "// Set the label for the legend.\n",
    "std::map<std::string, std::string> m0;\n",
    "m0.insert(std::pair<std::string, std::string>(\"label\", \"not admitted\"));\n",
    "plt::scatter(x0, y0, 4, m0);\n",
    "\n",
    "// Set the label for the legend.\n",
    "std::map<std::string, std::string> m1;\n",
    "m1.insert(std::pair<std::string, std::string>(\"label\", \"admitted\"));\n",
    "plt::scatter(x1, y1, 4, m1);\n",
    "\n",
    "plt::xlabel(\"Exam 1 Score\");\n",
    "plt::ylabel(\"Exam 2 Score\");\n",
    "plt::title(\"Student admission vs. past two exams\");\n",
    "plt::legend();\n",
    "\n",
    "plt::save(\"./plot.png\");\n",
    "auto im = xw::image_from_file(\"plot.png\").finalize();\n",
    "im"
   ]
  },
  {
   "cell_type": "markdown",
   "metadata": {},
   "source": [
    "If the score of the first or the second exam was too low, it might be not enough to be admitted. You need a good balance."
   ]
  },
  {
   "cell_type": "markdown",
   "metadata": {},
   "source": [
    "This is the logistic function to model our admission:\n",
    "$P(y=1) = \\frac{1}{1 + e^{-(\\beta_{0} + \\beta_{1} \\cdot x_{1} + ... + \\beta_{n} \\cdot x_{n}) }}$\n",
    "\n",
    "where y is the admission result (0 or 1) and x are the exams scores.\n",
    "Since in our example the admission decision is based on two exams (x1 and x2)\n",
    "(two exams) we can set n = 2. The next step is to find the correct beta\n",
    "parameters for the model by using our historical data as a training set."
   ]
  },
  {
   "cell_type": "code",
   "execution_count": 10,
   "metadata": {},
   "outputs": [],
   "source": [
    "// Split data into training data X (input) and y (labels) target variable.\n",
    "\n",
    "// Labels are the last row.\n",
    "arma::Row<size_t> labels =\n",
    "    arma::conv_to<arma::Row<size_t>>::from(input.row(input.n_rows - 1));\n",
    "input.shed_row(input.n_rows - 1);"
   ]
  },
  {
   "cell_type": "code",
   "execution_count": 11,
   "metadata": {},
   "outputs": [],
   "source": [
    "// Create and train Logistic Regression model.\n",
    "//\n",
    "// For more information checkout https://mlpack.org/doc/mlpack-git/doxygen/classmlpack_1_1regression_1_1LogisticRegression.html\n",
    "// or uncomment the line below.\n",
    "// ?LogisticRegression<>\n",
    "LogisticRegression<> lr(input, labels, 0.0 /* no regularization */);"
   ]
  },
  {
   "cell_type": "code",
   "execution_count": 12,
   "metadata": {},
   "outputs": [
    {
     "name": "stdout",
     "output_type": "stream",
     "text": [
      "  -25.1613    0.2062    0.2015\n"
     ]
    }
   ],
   "source": [
    "// Final beta parameters.\n",
    "lr.Parameters().print()"
   ]
  },
  {
   "cell_type": "code",
   "execution_count": 13,
   "metadata": {},
   "outputs": [],
   "source": [
    "// We can use these beta parameters to plot the decision boundary on the training data.\n",
    "// We only need two points to plot a line, so we choose two endpoints:\n",
    "// the min and the max among the X training data.\n",
    "std::vector<double> xPlot;\n",
    "xPlot.push_back(arma::min(input.row(0)) - 2);\n",
    "xPlot.push_back(arma::max(input.row(0)) + 2);\n",
    "\n",
    "std::vector<double> yPlot;\n",
    "yPlot.push_back((-1.0 / lr.Parameters()(2)) * (lr.Parameters()(1) * xPlot[0] + lr.Parameters()(0)));\n",
    "yPlot.push_back((-1.0 / lr.Parameters()(2)) * (lr.Parameters()(1) * xPlot[1] + lr.Parameters()(0)));"
   ]
  },
  {
   "cell_type": "code",
   "execution_count": 14,
   "metadata": {},
   "outputs": [
    {
     "data": {
      "application/vnd.jupyter.widget-view+json": {
       "model_id": "e023c9b879234163b1f5498cc8154920",
       "version_major": 2,
       "version_minor": 0
      },
      "text/plain": [
       "A Jupyter widget with unique id: e023c9b879234163b1f5498cc8154920"
      ]
     },
     "execution_count": 14,
     "metadata": {},
     "output_type": "execute_result"
    }
   ],
   "source": [
    "// Plot the decision boundary.\n",
    "\n",
    "// Get the indices for the labels  0.0 (not admitted).\n",
    "arma::mat dataset0 = input.cols(arma::find(labels == 0));\n",
    "\n",
    "// Get the data to for the indices.\n",
    "std::vector<double> x0 = arma::conv_to<std::vector<double>>::from(dataset0.row(0));\n",
    "std::vector<double> y0 = arma::conv_to<std::vector<double>>::from(dataset0.row(1));\n",
    "\n",
    "// Get the indices for the label 1.0 (admitted).\n",
    "arma::mat dataset1 = input.cols(arma::find(labels == 1.0));\n",
    "\n",
    "// Get the data to for the indices.\n",
    "std::vector<double> x1 = arma::conv_to<std::vector<double>>::from(dataset1.row(0));\n",
    "std::vector<double> y1 = arma::conv_to<std::vector<double>>::from(dataset1.row(1));\n",
    "\n",
    "plt::figure_size(800, 800);\n",
    "plt::scatter(x0, y0, 4);\n",
    "plt::scatter(x1, y1, 4);\n",
    "\n",
    "plt::plot(xPlot, yPlot);\n",
    "\n",
    "plt::xlabel(\"Exam 1 Score\");\n",
    "plt::ylabel(\"Exam 2 Score\");\n",
    "plt::title(\"Student admission vs. past two exams\");\n",
    "\n",
    "plt::save(\"./decision boundary-plot.png\");\n",
    "auto im = xw::image_from_file(\"decision boundary-plot.png\").finalize();\n",
    "im"
   ]
  },
  {
   "cell_type": "markdown",
   "metadata": {},
   "source": [
    "The blue line is our decision boundary. When your exams score lie below the line then\n",
    "probably (that is the prediction) you will not be admitted to University.\n",
    "If they lie above, probably you will. As you can see, the boundary is not predicting\n",
    "perfectly on the training historical data."
   ]
  },
  {
   "cell_type": "code",
   "execution_count": 15,
   "metadata": {},
   "outputs": [],
   "source": [
    "// Let's say that my scores are 40 in the first exam and 78 in the second one.\n",
    "arma::mat scores(\"40.0; 78.0\");\n",
    "\n",
    "arma::mat probabilities;\n",
    "lr.Classify(scores, probabilities);"
   ]
  },
  {
   "cell_type": "code",
   "execution_count": 16,
   "metadata": {},
   "outputs": [
    {
     "name": "stdout",
     "output_type": "stream",
     "text": [
      "   0.7680\n",
      "   0.2320\n"
     ]
    }
   ],
   "source": [
    "probabilities.print()"
   ]
  },
  {
   "cell_type": "markdown",
   "metadata": {},
   "source": [
    "Looks like my probability to be admitted at University is only 23%."
   ]
  }
 ],
 "metadata": {
  "kernelspec": {
   "display_name": "C++14",
   "language": "C++14",
   "name": "xcpp14"
  },
  "language_info": {
   "codemirror_mode": "text/x-c++src",
   "file_extension": ".cpp",
   "mimetype": "text/x-c++src",
   "name": "c++",
   "version": "14"
  }
 },
 "nbformat": 4,
 "nbformat_minor": 4
}
