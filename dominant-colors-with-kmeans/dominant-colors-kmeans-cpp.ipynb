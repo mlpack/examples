{
  "metadata":{
    "language_info":{
      "codemirror_mode":"text/x-c++src",
      "file_extension":".cpp",
      "mimetype":"text/x-c++src",
      "name":"c++",
      "version":"14"
    },
    "kernelspec":{
      "name":"xcpp14",
      "display_name":"C++14",
      "language":"C++14"
    }
  },
  "nbformat_minor":4,
  "nbformat":4,
  "cells":[
    {
      "cell_type":"markdown",
      "source":"[![Binder](https://mybinder.org/badge_logo.svg)](https://lab.mlpack.org/v2/gh/mlpack/examples/master?urlpath=lab%2Ftree%2Fdominant-colors-with-kmeans%2Fdominant-colors-kmeans-cpp.ipynb)",
      "metadata":{

      }
    },
    {
      "cell_type":"code",
      "source":"/**\n * @file dominant-colors-kmeans-cpp.ipynb\n *\n * A simple example usage of K-means clustering\n * to find the most dominant colors in an image.\n *\n * The dominant colors are colors that are represented\n * most in the image.\n */",
      "metadata":{
        "trusted":true
      },
      "execution_count":1,
      "outputs":[

      ]
    },
    {
      "cell_type":"markdown",
      "source":"Download some example images.",
      "metadata":{

      }
    },
    {
      "cell_type":"code",
      "source":"!wget -q -O jurassic-park.png https://lab.mlpack.org/data/jurassic-park.png",
      "metadata":{
        "trusted":true
      },
      "execution_count":2,
      "outputs":[

      ]
    },
    {
      "cell_type":"code",
      "source":"!wget -q -O the-godfather.png https://lab.mlpack.org/data/the-godfather.png",
      "metadata":{
        "trusted":true
      },
      "execution_count":3,
      "outputs":[

      ]
    },
    {
      "cell_type":"code",
      "source":"!wget -q -O the-grand-budapest-hotel.png https://lab.mlpack.org/data/the-grand-budapest-hotel.png",
      "metadata":{
        "trusted":true
      },
      "execution_count":4,
      "outputs":[

      ]
    },
    {
      "cell_type":"code",
      "source":"#include <mlpack/xeus-cling.hpp>\n\n#include <mlpack/core.hpp>\n#include <mlpack/methods/kmeans/kmeans.hpp>\n\n#include <sstream>\n\n// Enable image load/save support.\n#define HAS_STB",
      "metadata":{
        "trusted":true
      },
      "execution_count":5,
      "outputs":[

      ]
    },
    {
      "cell_type":"code",
      "source":"// Header files to create and show images.\n#include \"xwidgets/ximage.hpp\"\n#include \"stackedbar.hpp\"",
      "metadata":{
        "trusted":true
      },
      "execution_count":6,
      "outputs":[

      ]
    },
    {
      "cell_type":"code",
      "source":"using namespace mlpack;",
      "metadata":{
        "trusted":true
      },
      "execution_count":7,
      "outputs":[

      ]
    },
    {
      "cell_type":"code",
      "source":"using namespace mlpack::kmeans;",
      "metadata":{
        "trusted":true
      },
      "execution_count":8,
      "outputs":[

      ]
    },
    {
      "cell_type":"code",
      "source":"// Before we apply K-means on an image we have to be aware that the RGB color space has some shortages. In fact, it's\n// tempting to simply compare the euclidean distance difference between the red, green, and blue aspects of an RGB.\n// Unfortunately RGB was intended for convenient use with electronic systems, so is not very similar to average human\n// perception. Applying K-means using the euclidean distance quickly reveals sporadic and often drastically different\n// results than one would expect of visually similar colors.  There are several ways to tackle the issue and to calculate\n// the perceived difference in color. The most popular method is known as CIE 1976, or more commonly just CIE76. This\n// method uses the Euclidean distance, however, the trick is to first convert to the CIE*Lab color space.\n\n// Function to convert RGB into CIE*Lab color space.\nvoid rgb2lab(const double R,\n             const double G,\n             const double B,\n             double& ls,\n             double& as,\n             double& bs )\n{\n    double varR = R / 255.0;\n    double varG = G / 255.0;\n    double varB = B / 255.0;\n\n    if (varR > 0.04045)\n        varR = std::pow(((varR + 0.055) / 1.055), 2.4 );\n    else\n        varR /= 12.92;\n\n    if (varG > 0.04045)\n        varG = std::pow(((varG + 0.055) / 1.055), 2.4);\n    else\n        varG /= 12.92;\n\n    if (varB > 0.04045)\n        varB = std::pow(((varB + 0.055 ) / 1.055), 2.4);\n    else\n        varB = varB / 12.92;\n\n    varR *= 100.;\n    varG *= 100.;\n    varB *= 100.;\n\n    double X = varR * 0.4124 + varG * 0.3576 + varB * 0.1805;\n    double Y = varR * 0.2126 + varG * 0.7152 + varB * 0.0722;\n    double Z = varR * 0.0193 + varG * 0.1192 + varB * 0.9505;\n\n    double varX = X / 95.047;\n    double varY = Y / 100.000;\n    double varZ = Z / 108.883;\n\n    if (varX > 0.008856)\n        varX = std::pow(varX, 1.0 / 3.0);\n    else\n        varX = (7.787 * varX) + (16.0 / 116.0);\n    \n    if (varY > 0.008856)\n        varY = std::pow(varY, 1.0 / 3.0);\n    else\n        varY = (7.787 * varY) + (16.0 / 116.0);\n    \n    if (varZ > 0.008856)\n        varZ = std::pow(varZ, 1.0 / 3.0);\n    else\n        varZ = (7.787 * varZ) + (16.0 / 116.0);\n\n    ls = (116.0 * varY) - 16.0;\n    as = 500.0 * (varX - varY);\n    bs = 200.0 * (varY - varZ);\n}",
      "metadata":{
        "trusted":true
      },
      "execution_count":9,
      "outputs":[

      ]
    },
    {
      "cell_type":"code",
      "source":"// Function to convert CIE*Lab into RGB color space.\nvoid lab2rgb(const double ls,\n             const double as,\n             const double bs,\n             double& R,\n             double& G,\n             double& B )\n{\n    double varY = (ls + 16.0) / 116.0;\n    double varX = as / 500.0 + varY;\n    double varZ = varY - bs / 200.0;\n\n    if (std::pow(varY, 3.0) > 0.008856)\n        varY = std::pow(varY, 3.0);\n    else\n        varY = (varY - 16.0 / 116.0) / 7.787;\n    \n    if (std::pow(varX, 3.0) > 0.008856)\n        varX = std::pow(varX, 3.0);\n    else\n        varX = (varX - 16.0 / 116.0) / 7.787;\n    \n    if (std::pow(varZ, 3.0) > 0.008856)\n        varZ = std::pow(varZ, 3);\n    else\n        varZ = (varZ - 16.0 / 116.0) / 7.787;\n\n    double X = 95.047 * varX;\n    double Y = 100.000 * varY;\n    double Z = 108.883 * varZ;\n\n    varX = X / 100.0;\n    varY = Y / 100.0;\n    varZ = Z / 100.0;\n\n    double varR = varX * 3.2406 + varY * -1.5372 + varZ * -0.4986;\n    double varG = varX * -0.9689 + varY * 1.8758 + varZ * 0.0415;\n    double varB = varX * 0.0557 + varY * -0.2040 + varZ * 1.0570;\n\n    if (varR > 0.0031308)\n        varR = 1.055 * std::pow(varR, (1.0 / 2.4)) - 0.055;\n    else\n        varR *= 12.92;\n    \n    if (varG > 0.0031308)\n        varG = 1.055 * std::pow(varG, (1.0 / 2.4)) - 0.055;\n    else\n        varG *= 12.92;\n    if (varB > 0.0031308)\n        varB = 1.055 * std::pow(varB, (1.0 / 2.4)) - 0.055;\n    else\n        varB = 12.92 * varB;\n\n    R = varR * 255.0;\n    G = varG * 255.0;\n    B = varB * 255.0;\n}",
      "metadata":{
        "trusted":true
      },
      "execution_count":10,
      "outputs":[

      ]
    },
    {
      "cell_type":"code",
      "source":"// Function to convert RGB matrix into CIE*Lab color space.\nvoid rgb2labMatrix(arma::mat& matrix)\n{\n    for (size_t i = 0; i < matrix.n_cols; ++i)\n    {\n        rgb2lab(matrix.col(i)(0),\n                matrix.col(i)(1),\n                matrix.col(i)(2),\n                matrix.col(i)(0),\n                matrix.col(i)(1),\n                matrix.col(i)(2));\n    }\n}",
      "metadata":{
        "trusted":true
      },
      "execution_count":11,
      "outputs":[

      ]
    },
    {
      "cell_type":"code",
      "source":"// Function to convert CIE*Lab matrix into RGB color space.\nvoid lab2rgbMatrix(arma::mat& matrix)\n{\n    for (size_t i = 0; i < matrix.n_cols; ++i)\n    {\n        lab2rgb(matrix.col(i)(0),\n                matrix.col(i)(1),\n                matrix.col(i)(2),\n                matrix.col(i)(0),\n                matrix.col(i)(1),\n                matrix.col(i)(2));\n    }\n}",
      "metadata":{
        "trusted":true
      },
      "execution_count":12,
      "outputs":[

      ]
    },
    {
      "cell_type":"code",
      "source":"// Helper function to create the color string from the K-means centroids.\nvoid GetColorBarData(std::string& values,\n                     std::string& colors,\n                     const size_t cluster,\n                     const arma::Row<size_t>& assignments,\n                     const arma::mat& centroids)\n{\n    arma::uvec h = arma::histc(arma::conv_to<arma::vec>::from(assignments), arma::linspace<arma::vec>(0, cluster - 1, cluster));\n    arma::uvec indices = arma::sort_index(h);\n\n    std::stringstream valuesString;\n    std::stringstream colorsString;\n    for (size_t i = 0; i < indices.n_elem; ++i)\n    {\n        colorsString << (int)centroids.col(indices(i))(0) << \";\"\n                     << (int)centroids.col(indices(i))(1) << \";\"\n                     << (int)centroids.col(indices(i))(2) << \";\";\n\n        valuesString << h(indices(i)) << \";\";\n    }\n    \n    values = valuesString.str();\n    colors = colorsString.str();\n}",
      "metadata":{
        "trusted":true
      },
      "execution_count":13,
      "outputs":[

      ]
    },
    {
      "cell_type":"code",
      "source":"// Load the example image.\narma::Mat<unsigned char> imageMatrix;\ndata::ImageInfo info;\ndata::Load(\"jurassic-park.png\", imageMatrix, info, false);",
      "metadata":{
        "trusted":true
      },
      "execution_count":14,
      "outputs":[

      ]
    },
    {
      "cell_type":"code",
      "source":"// Print the image shape.\nstd::cout << \"Image info -\"\n          << \" Width:\" << info.Width()\n          << \" Height: \" << info.Height()\n          << \" Channels: \" << info.Channels() << std::endl;",
      "metadata":{
        "trusted":true
      },
      "execution_count":15,
      "outputs":[
        {
          "name":"stdout",
          "text":"Image info - Width:600 Height: 450 Channels: 3\n",
          "output_type":"stream"
        }
      ]
    },
    {
      "cell_type":"code",
      "source":"// Each column of the image matrix contains an image that\n// is vectorized in the format of [R, G, B, R, G, B, ..., R, G, B].\n// Here we transform the image data into the expected format:\n// [[R, G, B],\n//  [R, G, B],\n//  ...\n//  [R, G, B]]\narma::mat imageData = arma::conv_to<arma::mat>::from(\n    arma::reshape(imageMatrix, info.Channels(), imageMatrix.n_elem / 3));\n\n// Remove the alpha channel if the image comes with one.\nif (info.Channels() > 3)\n    imageData.shed_row(3);\n\n// Convert from RGB to CIE*Lab color space.\nrgb2labMatrix(imageData);",
      "metadata":{
        "trusted":true
      },
      "execution_count":16,
      "outputs":[

      ]
    },
    {
      "cell_type":"code",
      "source":"// Perform K-means clustering using the Euclidean distance.\n//\n// For more information checkout https://mlpack.org/doc/stable/doxygen/classmlpack_1_1kmeans_1_1KMeans.html\n// or uncomment the line below.\n// ?KMeans<>\n\n// The assignments will be stored in this vector.\narma::Row<size_t> assignments;\n\n// The centroids will be stored in this matrix.\narma::mat centroids;\n\n// The number of clusters we are getting (colors).\n// For the image we like the see the first 5 dominate colors.\nsize_t cluster = 5;\n\n// Initialize with the default arguments.\nKMeans<> kmeans;\nkmeans.Cluster(imageData, cluster, assignments, centroids);\n\n// Convert back from CIE*Lab to RGB color space to plot the result.\nlab2rgbMatrix(centroids);",
      "metadata":{
        "trusted":true
      },
      "execution_count":17,
      "outputs":[

      ]
    },
    {
      "cell_type":"code",
      "source":"// Show the input image.\nauto im = xw::image_from_file(\"jurassic-park.png\").finalize();\nim",
      "metadata":{
        "trusted":true
      },
      "execution_count":18,
      "outputs":[
        {
          "execution_count":18,
          "output_type":"execute_result",
          "data":{
            "application/vnd.jupyter.widget-view+json":{
              "model_id":"16839c5f47b14f2e989b555f1549d791",
              "version_major":2,
              "version_minor":0
            },
            "text/plain":"A Jupyter widget"
          },
          "metadata":{

          }
        }
      ]
    },
    {
      "cell_type":"code",
      "source":"// Create color bar data using the centroids matrix and assignments vector.\n// In our case which the centroids matrix contains the dominant colors in\n// RGB color space, and the assignments vector contains the associated\n// dominant color for each pixel in the image.\nstd::string values, colors;\nGetColorBarData(values, colors, cluster, assignments, centroids);\n\n// Show the dominant colors.\nStackedBar(values, colors, \"jurassic-park-colors.png\");\nauto im = xw::image_from_file(\"jurassic-park-colors.png\").finalize();\nim",
      "metadata":{
        "trusted":true
      },
      "execution_count":19,
      "outputs":[
        {
          "execution_count":19,
          "output_type":"execute_result",
          "data":{
            "application/vnd.jupyter.widget-view+json":{
              "model_id":"c29d113f552d4da893670458d212af7c",
              "version_major":2,
              "version_minor":0
            },
            "text/plain":"A Jupyter widget"
          },
          "metadata":{

          }
        }
      ]
    },
    {
      "cell_type":"code",
      "source":"// Load the example image.\narma::Mat<unsigned char> imageMatrix;\ndata::ImageInfo info;\ndata::Load(\"the-godfather.png\", imageMatrix, info, false);",
      "metadata":{
        "trusted":true
      },
      "execution_count":20,
      "outputs":[

      ]
    },
    {
      "cell_type":"code",
      "source":"// Print the image shape.\nstd::cout << \"Image info -\"\n          << \" Width:\" << info.Width()\n          << \" Height: \" << info.Height()\n          << \" Channels: \" << info.Channels() << std::endl;",
      "metadata":{
        "trusted":true
      },
      "execution_count":21,
      "outputs":[
        {
          "name":"stdout",
          "text":"Image info - Width:376 Height: 500 Channels: 3\n",
          "output_type":"stream"
        }
      ]
    },
    {
      "cell_type":"code",
      "source":"// Each column of the image matrix contains an image that\n// is vectorized in the format of [R, G, B, R, G, B, ..., R, G, B].\n// Here we transform the image data into the expected format:\n// [[R, G, B],\n//  [R, G, B],\n//  ...\n//  [R, G, B]]\narma::mat imageData = arma::conv_to<arma::mat>::from(\n    arma::reshape(imageMatrix, info.Channels(), imageMatrix.n_elem / 3));\n\n// Remove the alpha channel if the image comes with one.\nif (info.Channels() > 3)\n    imageData.shed_row(3);\n\n// Convert from RGB to CIE*Lab color space.\nrgb2labMatrix(imageData);",
      "metadata":{
        "trusted":true
      },
      "execution_count":22,
      "outputs":[

      ]
    },
    {
      "cell_type":"code",
      "source":"// Perform K-means clustering using the Euclidean distance.\n//\n// For more information checkout https://mlpack.org/doc/stable/doxygen/classmlpack_1_1kmeans_1_1KMeans.html\n// or uncomment the line below.\n// ?KMeans<>\n\n// The assignments will be stored in this vector.\narma::Row<size_t> assignments;\n\n// The centroids will be stored in this matrix.\narma::mat centroids;\n\n// The number of clusters we are getting (colors).\n// For the image we like the see the first 4 dominate colors.\nsize_t cluster = 4;\n\n// Initialize with the default arguments.\nKMeans<> kmeans;\nkmeans.Cluster(imageData, cluster, assignments, centroids);\n\n// Convert back from CIE*Lab to RGB color space to plot the result.\nlab2rgbMatrix(centroids);",
      "metadata":{
        "trusted":true
      },
      "execution_count":23,
      "outputs":[

      ]
    },
    {
      "cell_type":"code",
      "source":"// Show the input image.\nauto im = xw::image_from_file(\"the-godfather.png\").finalize();\nim",
      "metadata":{
        "trusted":true
      },
      "execution_count":24,
      "outputs":[
        {
          "execution_count":24,
          "output_type":"execute_result",
          "data":{
            "application/vnd.jupyter.widget-view+json":{
              "model_id":"97dd4c832b594723b8efc37487de39ed",
              "version_major":2,
              "version_minor":0
            },
            "text/plain":"A Jupyter widget"
          },
          "metadata":{

          }
        }
      ]
    },
    {
      "cell_type":"code",
      "source":"// Create color bar data using the centroids matrix and assignments vector.\n// In our case which the centroids matrix contains the dominant colors in\n// RGB color space, and the assignments vector contains the associated\n// dominant color for each pixel in the image.\nstd::string values, colors;\nGetColorBarData(values, colors, cluster, assignments, centroids);\n\n// Show the dominant colors.\nStackedBar(values, colors, \"the-godfather-colors.png\");\nauto im = xw::image_from_file(\"the-godfather-colors.png\").finalize();//\nim",
      "metadata":{
        "trusted":true
      },
      "execution_count":25,
      "outputs":[
        {
          "execution_count":25,
          "output_type":"execute_result",
          "data":{
            "application/vnd.jupyter.widget-view+json":{
              "model_id":"96fec43e991840a0819a60bc8b05f35e",
              "version_major":2,
              "version_minor":0
            },
            "text/plain":"A Jupyter widget"
          },
          "metadata":{

          }
        }
      ]
    },
    {
      "cell_type":"code",
      "source":"// Load the example image.\narma::Mat<unsigned char> imageMatrix;\ndata::ImageInfo info;\ndata::Load(\"the-grand-budapest-hotel.png\", imageMatrix, info, false);",
      "metadata":{
        "trusted":true
      },
      "execution_count":26,
      "outputs":[

      ]
    },
    {
      "cell_type":"code",
      "source":"// Print the image shape.\nstd::cout << \"Image info -\"\n          << \" Width:\" << info.Width()\n          << \" Height: \" << info.Height()\n          << \" Channels: \" << info.Channels() << std::endl;",
      "metadata":{
        "trusted":true
      },
      "execution_count":27,
      "outputs":[
        {
          "name":"stdout",
          "text":"Image info - Width:913 Height: 475 Channels: 3\n",
          "output_type":"stream"
        }
      ]
    },
    {
      "cell_type":"code",
      "source":"// Each column of the image matrix contains an image that\n// is vectorized in the format of [R, G, B, R, G, B, ..., R, G, B].\n// Here we transform the image data into the expected format:\n// [[R, G, B],\n//  [R, G, B],\n//  ...\n//  [R, G, B]]\narma::mat imageData = arma::conv_to<arma::mat>::from(\n    arma::reshape(imageMatrix, info.Channels(), imageMatrix.n_elem / 3));\n\n// Remove the alpha channel if the image comes with one.\nif (info.Channels() > 3)\n    imageData.shed_row(3);\n\n// Convert from RGB to CIE*Lab color space.\nrgb2labMatrix(imageData);",
      "metadata":{
        "trusted":true
      },
      "execution_count":28,
      "outputs":[

      ]
    },
    {
      "cell_type":"code",
      "source":"// Perform K-means clustering using the Euclidean distance.\n//\n// For more information checkout https://mlpack.org/doc/stable/doxygen/classmlpack_1_1kmeans_1_1KMeans.html\n// or uncomment the line below.\n// ?KMeans<>\n\n// The assignments will be stored in this vector.\narma::Row<size_t> assignments;\n\n// The centroids will be stored in this matrix.\narma::mat centroids;\n\n// The number of clusters we are getting (colors).\n// For the image we like the see the first 4 dominate colors.\nsize_t cluster = 4;\n\n// Initialize with the default arguments.\nKMeans<> kmeans;\nkmeans.Cluster(imageData, cluster, assignments, centroids);\n\n// Convert back from CIE*Lab to RGB color space to plot the result.\nlab2rgbMatrix(centroids);",
      "metadata":{
        "trusted":true
      },
      "execution_count":29,
      "outputs":[

      ]
    },
    {
      "cell_type":"code",
      "source":"// Show the input image.\nauto im = xw::image_from_file(\"the-grand-budapest-hotel.png\").finalize();\nim",
      "metadata":{
        "trusted":true
      },
      "execution_count":30,
      "outputs":[
        {
          "execution_count":30,
          "output_type":"execute_result",
          "data":{
            "application/vnd.jupyter.widget-view+json":{
              "model_id":"0dfc1d1f099345cc9820bb86f8717ff7",
              "version_major":2,
              "version_minor":0
            },
            "text/plain":"A Jupyter widget"
          },
          "metadata":{

          }
        }
      ]
    },
    {
      "cell_type":"code",
      "source":"// Create color bar data using the centroids matrix and assignments vector.\n// In our case which the centroids matrix contains the dominant colors in\n// RGB color space, and the assignments vector contains the associated\n// dominant color for each pixel in the image.\nstd::string values, colors;\nGetColorBarData(values, colors, cluster, assignments, centroids);\nStackedBar(values, colors, \"the-grand-budapest-hotel-colors.png\");\n\n// Show the dominant colors.\nauto im = xw::image_from_file(\"the-grand-budapest-hotel-colors.png\").finalize();\nim",
      "metadata":{
        "trusted":true
      },
      "execution_count":31,
      "outputs":[
        {
          "execution_count":31,
          "output_type":"execute_result",
          "data":{
            "application/vnd.jupyter.widget-view+json":{
              "model_id":"80ecd0f59c524e489de8d44e55c748c5",
              "version_major":2,
              "version_minor":0
            },
            "text/plain":"A Jupyter widget"
          },
          "metadata":{

          }
        }
      ]
    }
  ]
}
